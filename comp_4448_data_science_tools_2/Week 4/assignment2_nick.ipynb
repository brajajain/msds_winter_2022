{
 "cells": [
  {
   "cell_type": "markdown",
   "id": "135f8b9c-d87e-4a07-afab-47245b3944ec",
   "metadata": {},
   "source": [
    "# Assignment 2\n",
    "\n",
    "### Nick Sciarrilli\n",
    "#### Comp 4448\n",
    "#### 09.13.2021\n",
    "\n",
    "---"
   ]
  },
  {
   "cell_type": "code",
   "execution_count": 1,
   "id": "7fa1b572-5139-4554-ba57-5d1f0503d84a",
   "metadata": {},
   "outputs": [],
   "source": [
    "import numpy as np\n",
    "import pandas as pd\n",
    "import matplotlib.pyplot as plt\n",
    "import plotly.express as px\n",
    "\n",
    "from sklearn.preprocessing import LabelBinarizer\n",
    "from sklearn.preprocessing import StandardScaler\n",
    "from sklearn.model_selection import train_test_split\n",
    "from sklearn.pipeline import Pipeline\n",
    "from sklearn.impute import SimpleImputer"
   ]
  },
  {
   "cell_type": "markdown",
   "id": "cb24bf59-766e-4f1c-b8cd-41fb764ec8e0",
   "metadata": {},
   "source": [
    "## Question 1\n",
    "\n",
    "You are provided the following dataset:\n",
    "\n",
    "|refund | marital_status | income_above_80k | cheat |\n",
    "|-------:|--------------:|-----------------:|------:|\n",
    "| yes | single | yes | no |\n",
    "| no | married | yes | no |\n",
    "| no | single | no | no |\n",
    "| yes | married |yes | no |\n",
    "| no | divorced | yes | yes |\n",
    "| no | married | no | no |\n",
    "| yes | divorced | yes | no |\n",
    "| no | single | yes | yes |\n",
    "| no | married | no | no |\n",
    "| no | single | yes | yes |\n",
    "\n",
    "The data is to be used to predict whether individuals will cheat in filing their taxes or not. The attributes are refund, indicating whether an individual received tax refund or not, marital_status indicating whether the individual is married, single, or divorced, the income_above_80k, indicating whether an individual’s taxable income is above $80,000 or not. The output variable, cheat, is a binary variable indicating whether an individual cheated in filing taxes or not. \n",
    "\n",
    "The following decision tree can be used to extract the classification rule for the data provided. \n",
    "\n",
    "![decision tree](images/tree.png)"
   ]
  },
  {
   "cell_type": "code",
   "execution_count": 2,
   "id": "5e36d26d-afbf-4b27-92be-83513c742eae",
   "metadata": {},
   "outputs": [
    {
     "data": {
      "text/html": [
       "<div>\n",
       "<style scoped>\n",
       "    .dataframe tbody tr th:only-of-type {\n",
       "        vertical-align: middle;\n",
       "    }\n",
       "\n",
       "    .dataframe tbody tr th {\n",
       "        vertical-align: top;\n",
       "    }\n",
       "\n",
       "    .dataframe thead th {\n",
       "        text-align: right;\n",
       "    }\n",
       "</style>\n",
       "<table border=\"1\" class=\"dataframe\">\n",
       "  <thead>\n",
       "    <tr style=\"text-align: right;\">\n",
       "      <th></th>\n",
       "      <th>refund</th>\n",
       "      <th>marital_status</th>\n",
       "      <th>income_above_80k</th>\n",
       "      <th>cheat</th>\n",
       "    </tr>\n",
       "  </thead>\n",
       "  <tbody>\n",
       "    <tr>\n",
       "      <th>0</th>\n",
       "      <td>yes</td>\n",
       "      <td>single</td>\n",
       "      <td>yes</td>\n",
       "      <td>no</td>\n",
       "    </tr>\n",
       "    <tr>\n",
       "      <th>1</th>\n",
       "      <td>no</td>\n",
       "      <td>married</td>\n",
       "      <td>yes</td>\n",
       "      <td>no</td>\n",
       "    </tr>\n",
       "    <tr>\n",
       "      <th>2</th>\n",
       "      <td>no</td>\n",
       "      <td>single</td>\n",
       "      <td>no</td>\n",
       "      <td>no</td>\n",
       "    </tr>\n",
       "    <tr>\n",
       "      <th>3</th>\n",
       "      <td>yes</td>\n",
       "      <td>married</td>\n",
       "      <td>yes</td>\n",
       "      <td>no</td>\n",
       "    </tr>\n",
       "    <tr>\n",
       "      <th>4</th>\n",
       "      <td>no</td>\n",
       "      <td>divorced</td>\n",
       "      <td>yes</td>\n",
       "      <td>yes</td>\n",
       "    </tr>\n",
       "    <tr>\n",
       "      <th>5</th>\n",
       "      <td>no</td>\n",
       "      <td>married</td>\n",
       "      <td>no</td>\n",
       "      <td>no</td>\n",
       "    </tr>\n",
       "    <tr>\n",
       "      <th>6</th>\n",
       "      <td>yes</td>\n",
       "      <td>divorced</td>\n",
       "      <td>yes</td>\n",
       "      <td>no</td>\n",
       "    </tr>\n",
       "    <tr>\n",
       "      <th>7</th>\n",
       "      <td>no</td>\n",
       "      <td>single</td>\n",
       "      <td>yes</td>\n",
       "      <td>yes</td>\n",
       "    </tr>\n",
       "    <tr>\n",
       "      <th>8</th>\n",
       "      <td>no</td>\n",
       "      <td>married</td>\n",
       "      <td>no</td>\n",
       "      <td>no</td>\n",
       "    </tr>\n",
       "    <tr>\n",
       "      <th>9</th>\n",
       "      <td>no</td>\n",
       "      <td>single</td>\n",
       "      <td>yes</td>\n",
       "      <td>yes</td>\n",
       "    </tr>\n",
       "  </tbody>\n",
       "</table>\n",
       "</div>"
      ],
      "text/plain": [
       "  refund marital_status income_above_80k cheat\n",
       "0    yes         single              yes    no\n",
       "1     no        married              yes    no\n",
       "2     no         single               no    no\n",
       "3    yes        married              yes    no\n",
       "4     no       divorced              yes   yes\n",
       "5     no        married               no    no\n",
       "6    yes       divorced              yes    no\n",
       "7     no         single              yes   yes\n",
       "8     no        married               no    no\n",
       "9     no         single              yes   yes"
      ]
     },
     "execution_count": 2,
     "metadata": {},
     "output_type": "execute_result"
    }
   ],
   "source": [
    "taxes = pd.read_csv(\"a2_data.csv\")\n",
    "df = taxes.copy()\n",
    "taxes"
   ]
  },
  {
   "cell_type": "markdown",
   "id": "95eaaf11-71df-424f-b19b-7ff3b7c7bd1d",
   "metadata": {},
   "source": [
    "**a)** Write an IF-THEN rule derived from thiscopyision tree, that can be used to classify instances in the data suppose your desire is to predict “yes” for the output variable."
   ]
  },
  {
   "cell_type": "code",
   "execution_count": 3,
   "id": "58393c29-2e88-478f-9acb-4f30508d2e42",
   "metadata": {},
   "outputs": [
    {
     "data": {
      "text/plain": [
       "'yes'"
      ]
     },
     "execution_count": 3,
     "metadata": {},
     "output_type": "execute_result"
    }
   ],
   "source": [
    "def rule_tree(row):\n",
    "    if row.refund == \"yes\":\n",
    "        return \"no\"\n",
    "    elif row.income_above_80k == \"no\":\n",
    "        return \"no\"\n",
    "    elif row.marital_status == \"married\":\n",
    "        return \"no\"\n",
    "    else:\n",
    "        return \"yes\"\n",
    "\n",
    "\n",
    "rule_tree(df.iloc[4])"
   ]
  },
  {
   "cell_type": "markdown",
   "id": "133f07bf-a940-4493-b86b-fc27122f71a2",
   "metadata": {},
   "source": [
    "**b)** In code, create a function with an if-else statement to implement the rule you wrote above in question 1a. You can name the function predict. The function takes the input data and returns a vector of predicted output values. You can decide if you want your function’s input data argument to be a numpy array or a data frame, ,then structure your function body to process the input data accordingly. Provide some brief document of your function. You can loop through each instance in the input data and assess whether the instance satisfies the rule for predicting “yes” or not. If the instance satisfies the rule for predicting “yes”, then predict 1, otherwise, predict 0. "
   ]
  },
  {
   "cell_type": "code",
   "execution_count": 4,
   "id": "22b926de-664b-4ffc-96b3-74ad6a9a4ed7",
   "metadata": {},
   "outputs": [
    {
     "data": {
      "text/plain": [
       "array([0, 0, 0, 0, 1, 0, 0, 1, 0, 1], dtype=uint8)"
      ]
     },
     "execution_count": 4,
     "metadata": {},
     "output_type": "execute_result"
    }
   ],
   "source": [
    "def rule_tree(row):\n",
    "    if row.refund == \"yes\":\n",
    "        return 0\n",
    "    elif row.income_above_80k == \"no\":\n",
    "        return 0\n",
    "    elif row.marital_status == \"married\":\n",
    "        return 0\n",
    "    else:\n",
    "        return 1\n",
    "\n",
    "\n",
    "def predict(data):\n",
    "    \"\"\"\n",
    "    The predict function checks if the data is a dataframe or an individual sample. If the input\n",
    "    data is a dataframe it processes it and returns a numpy array. If the input is an individual sample\n",
    "    it returns a single value of 0 or 1 predicting if someone will cheat on their taxes.\n",
    "    \"\"\"\n",
    "    if isinstance(data, pd.DataFrame):\n",
    "        return data.apply(rule_tree, axis=1).values.astype(\"uint8\")\n",
    "    else:\n",
    "        return rule_tree(data)\n",
    "\n",
    "\n",
    "predict(df)"
   ]
  },
  {
   "cell_type": "markdown",
   "id": "24702758-8bb2-4b39-b5a3-f958b203b497",
   "metadata": {},
   "source": [
    "**c)** Create another function that implements the rule for predicting “yes” for the output, but this time, you will not use if-else statement or a loop. Rather use numpy arrays, matrices or vector to vectorize your code for faster and more efficient implementation. If the instance satisfies the rule for predicting “yes”, then predict 1, otherwise, predict 0. You can use logical operators for such implementation to compare values of test instances to values of attributes in the rule. This function still takes the input data and returns a vector of predicted values. You can call this function vectorized_predict. "
   ]
  },
  {
   "cell_type": "code",
   "execution_count": 5,
   "id": "3a8f4c2f-15ea-400f-88e5-59042e12fa32",
   "metadata": {},
   "outputs": [
    {
     "data": {
      "text/html": [
       "<div>\n",
       "<style scoped>\n",
       "    .dataframe tbody tr th:only-of-type {\n",
       "        vertical-align: middle;\n",
       "    }\n",
       "\n",
       "    .dataframe tbody tr th {\n",
       "        vertical-align: top;\n",
       "    }\n",
       "\n",
       "    .dataframe thead th {\n",
       "        text-align: right;\n",
       "    }\n",
       "</style>\n",
       "<table border=\"1\" class=\"dataframe\">\n",
       "  <thead>\n",
       "    <tr style=\"text-align: right;\">\n",
       "      <th></th>\n",
       "      <th>refund</th>\n",
       "      <th>marital_status</th>\n",
       "      <th>income_above_80k</th>\n",
       "    </tr>\n",
       "  </thead>\n",
       "  <tbody>\n",
       "    <tr>\n",
       "      <th>0</th>\n",
       "      <td>yes</td>\n",
       "      <td>single</td>\n",
       "      <td>yes</td>\n",
       "    </tr>\n",
       "    <tr>\n",
       "      <th>1</th>\n",
       "      <td>no</td>\n",
       "      <td>married</td>\n",
       "      <td>yes</td>\n",
       "    </tr>\n",
       "    <tr>\n",
       "      <th>2</th>\n",
       "      <td>no</td>\n",
       "      <td>single</td>\n",
       "      <td>no</td>\n",
       "    </tr>\n",
       "    <tr>\n",
       "      <th>3</th>\n",
       "      <td>yes</td>\n",
       "      <td>married</td>\n",
       "      <td>yes</td>\n",
       "    </tr>\n",
       "    <tr>\n",
       "      <th>4</th>\n",
       "      <td>no</td>\n",
       "      <td>divorced</td>\n",
       "      <td>yes</td>\n",
       "    </tr>\n",
       "    <tr>\n",
       "      <th>5</th>\n",
       "      <td>no</td>\n",
       "      <td>married</td>\n",
       "      <td>no</td>\n",
       "    </tr>\n",
       "    <tr>\n",
       "      <th>6</th>\n",
       "      <td>yes</td>\n",
       "      <td>divorced</td>\n",
       "      <td>yes</td>\n",
       "    </tr>\n",
       "    <tr>\n",
       "      <th>7</th>\n",
       "      <td>no</td>\n",
       "      <td>single</td>\n",
       "      <td>yes</td>\n",
       "    </tr>\n",
       "    <tr>\n",
       "      <th>8</th>\n",
       "      <td>no</td>\n",
       "      <td>married</td>\n",
       "      <td>no</td>\n",
       "    </tr>\n",
       "    <tr>\n",
       "      <th>9</th>\n",
       "      <td>no</td>\n",
       "      <td>single</td>\n",
       "      <td>yes</td>\n",
       "    </tr>\n",
       "  </tbody>\n",
       "</table>\n",
       "</div>"
      ],
      "text/plain": [
       "  refund marital_status income_above_80k\n",
       "0    yes         single              yes\n",
       "1     no        married              yes\n",
       "2     no         single               no\n",
       "3    yes        married              yes\n",
       "4     no       divorced              yes\n",
       "5     no        married               no\n",
       "6    yes       divorced              yes\n",
       "7     no         single              yes\n",
       "8     no        married               no\n",
       "9     no         single              yes"
      ]
     },
     "execution_count": 5,
     "metadata": {},
     "output_type": "execute_result"
    }
   ],
   "source": [
    "taxes.iloc[:, 0:3]"
   ]
  },
  {
   "cell_type": "code",
   "execution_count": 6,
   "id": "96e6634a-10d6-4193-829c-87fd0c01323c",
   "metadata": {},
   "outputs": [
    {
     "data": {
      "text/plain": [
       "array([0, 0, 0, 0, 1, 0, 0, 1, 0, 1], dtype=uint8)"
      ]
     },
     "execution_count": 6,
     "metadata": {},
     "output_type": "execute_result"
    }
   ],
   "source": [
    "def vectorized_predict(data):\n",
    "    # setup cases for positive prediction\n",
    "    case1 = np.array([0, 0, 0, 1], dtype=np.uint8)\n",
    "    case2 = np.array([0, 0, 1, 1], dtype=np.uint8)\n",
    "\n",
    "    # transform dataframe to numerical\n",
    "    data = data.iloc[:, 0:3]\n",
    "    dummies = pd.get_dummies(data, drop_first=True)\n",
    "\n",
    "    # make predictions\n",
    "    preds = []\n",
    "    for idx, row in dummies.iterrows():\n",
    "        if np.array_equal(row.values, case1) | np.array_equal(row.values, case2):\n",
    "            # print(1)\n",
    "            preds.append(1)\n",
    "        else:\n",
    "            # print(0)\n",
    "            preds.append(0)\n",
    "    return np.array(preds, dtype=np.uint8)\n",
    "\n",
    "\n",
    "vectorized_predict(df)"
   ]
  },
  {
   "cell_type": "markdown",
   "id": "c87c1d66-3065-48e4-98c0-5c77569dc970",
   "metadata": {},
   "source": [
    "**d)** Select the input data (refund, marital_status, income_above_80k) in the training data and apply your predict function to the input data to predict the outcome values of the input data. Your function should return a vector of predicted values. "
   ]
  },
  {
   "cell_type": "code",
   "execution_count": 7,
   "id": "c7ab1546-9689-4ef8-9f1f-19ffcd9ffa29",
   "metadata": {},
   "outputs": [
    {
     "data": {
      "text/plain": [
       "array([0, 0, 0, 0, 1, 0, 0, 1, 0, 1], dtype=uint8)"
      ]
     },
     "execution_count": 7,
     "metadata": {},
     "output_type": "execute_result"
    }
   ],
   "source": [
    "X = df[[\"refund\", \"marital_status\", \"income_above_80k\"]]\n",
    "predict(X)"
   ]
  },
  {
   "cell_type": "markdown",
   "id": "1bdbf8e9-4181-4237-b51b-e581e4fb9785",
   "metadata": {},
   "source": [
    "**e)** Select the input data (refund, marital_status, income_above_80k) in the training data and apply your vectorized_predict function to the input data to predict the outcome values of the input data. Your function should return a vector of predicted values. Are the predicted values with the vectorized_predict function the same as the predicted values obtained through the predict function? (you should have the same results). "
   ]
  },
  {
   "cell_type": "code",
   "execution_count": 8,
   "id": "78448326-00e7-4376-b2c3-3100f0c55dbe",
   "metadata": {},
   "outputs": [
    {
     "data": {
      "text/plain": [
       "array([0, 0, 0, 0, 1, 0, 0, 1, 0, 1], dtype=uint8)"
      ]
     },
     "execution_count": 8,
     "metadata": {},
     "output_type": "execute_result"
    }
   ],
   "source": [
    "vectorized_predict(X)"
   ]
  },
  {
   "cell_type": "markdown",
   "id": "5da575e2-8c27-41e4-82ff-9253d7647b93",
   "metadata": {},
   "source": [
    "**f)** Include the predicted values as a column to the training data and name that column predicted_cheat. "
   ]
  },
  {
   "cell_type": "code",
   "execution_count": 9,
   "id": "5c86768f-834b-498a-b10d-9fe859130e57",
   "metadata": {},
   "outputs": [
    {
     "data": {
      "text/html": [
       "<div>\n",
       "<style scoped>\n",
       "    .dataframe tbody tr th:only-of-type {\n",
       "        vertical-align: middle;\n",
       "    }\n",
       "\n",
       "    .dataframe tbody tr th {\n",
       "        vertical-align: top;\n",
       "    }\n",
       "\n",
       "    .dataframe thead th {\n",
       "        text-align: right;\n",
       "    }\n",
       "</style>\n",
       "<table border=\"1\" class=\"dataframe\">\n",
       "  <thead>\n",
       "    <tr style=\"text-align: right;\">\n",
       "      <th></th>\n",
       "      <th>refund</th>\n",
       "      <th>marital_status</th>\n",
       "      <th>income_above_80k</th>\n",
       "      <th>predicted_cheat</th>\n",
       "    </tr>\n",
       "  </thead>\n",
       "  <tbody>\n",
       "    <tr>\n",
       "      <th>0</th>\n",
       "      <td>yes</td>\n",
       "      <td>single</td>\n",
       "      <td>yes</td>\n",
       "      <td>0</td>\n",
       "    </tr>\n",
       "    <tr>\n",
       "      <th>1</th>\n",
       "      <td>no</td>\n",
       "      <td>married</td>\n",
       "      <td>yes</td>\n",
       "      <td>0</td>\n",
       "    </tr>\n",
       "    <tr>\n",
       "      <th>2</th>\n",
       "      <td>no</td>\n",
       "      <td>single</td>\n",
       "      <td>no</td>\n",
       "      <td>0</td>\n",
       "    </tr>\n",
       "    <tr>\n",
       "      <th>3</th>\n",
       "      <td>yes</td>\n",
       "      <td>married</td>\n",
       "      <td>yes</td>\n",
       "      <td>0</td>\n",
       "    </tr>\n",
       "    <tr>\n",
       "      <th>4</th>\n",
       "      <td>no</td>\n",
       "      <td>divorced</td>\n",
       "      <td>yes</td>\n",
       "      <td>1</td>\n",
       "    </tr>\n",
       "    <tr>\n",
       "      <th>5</th>\n",
       "      <td>no</td>\n",
       "      <td>married</td>\n",
       "      <td>no</td>\n",
       "      <td>0</td>\n",
       "    </tr>\n",
       "    <tr>\n",
       "      <th>6</th>\n",
       "      <td>yes</td>\n",
       "      <td>divorced</td>\n",
       "      <td>yes</td>\n",
       "      <td>0</td>\n",
       "    </tr>\n",
       "    <tr>\n",
       "      <th>7</th>\n",
       "      <td>no</td>\n",
       "      <td>single</td>\n",
       "      <td>yes</td>\n",
       "      <td>1</td>\n",
       "    </tr>\n",
       "    <tr>\n",
       "      <th>8</th>\n",
       "      <td>no</td>\n",
       "      <td>married</td>\n",
       "      <td>no</td>\n",
       "      <td>0</td>\n",
       "    </tr>\n",
       "    <tr>\n",
       "      <th>9</th>\n",
       "      <td>no</td>\n",
       "      <td>single</td>\n",
       "      <td>yes</td>\n",
       "      <td>1</td>\n",
       "    </tr>\n",
       "  </tbody>\n",
       "</table>\n",
       "</div>"
      ],
      "text/plain": [
       "  refund marital_status income_above_80k  predicted_cheat\n",
       "0    yes         single              yes                0\n",
       "1     no        married              yes                0\n",
       "2     no         single               no                0\n",
       "3    yes        married              yes                0\n",
       "4     no       divorced              yes                1\n",
       "5     no        married               no                0\n",
       "6    yes       divorced              yes                0\n",
       "7     no         single              yes                1\n",
       "8     no        married               no                0\n",
       "9     no         single              yes                1"
      ]
     },
     "execution_count": 9,
     "metadata": {},
     "output_type": "execute_result"
    }
   ],
   "source": [
    "X[\"predicted_cheat\"] = vectorized_predict(X)\n",
    "X"
   ]
  },
  {
   "cell_type": "markdown",
   "id": "b7b1e4e2-0e92-4c66-9b6e-d30a86734a04",
   "metadata": {},
   "source": [
    "**g)** Create a function that computes the overall accuracy of the classification. You can call this function overall_accuracy. The function should take two arguments, a vector of  actual output values and a vector of predicted output values, then returns the classification accuracy. Inside the function, you can use boolean logic to compare the actual and predicted values, then count the proportion of how many predicted values are equal to the actual values to get the overall accuracy. "
   ]
  },
  {
   "cell_type": "code",
   "execution_count": 10,
   "id": "30659755-88d8-4095-837a-ccbc3037898a",
   "metadata": {},
   "outputs": [
    {
     "data": {
      "text/plain": [
       "0.9"
      ]
     },
     "execution_count": 10,
     "metadata": {},
     "output_type": "execute_result"
    }
   ],
   "source": [
    "labels = taxes[\"cheat\"]\n",
    "y_true = pd.get_dummies(labels, drop_first=True).squeeze().values\n",
    "# y_pred = vectorized_predict(X)\n",
    "y_pred = np.array([1, 0, 0, 0, 1, 0, 0, 1, 0, 1]).astype(\"uint8\")\n",
    "\n",
    "\n",
    "def overall_accuracy(y_true, y_pred):\n",
    "    compare = y_true == y_pred\n",
    "    count = 0\n",
    "    for i in compare:\n",
    "        if i == True:\n",
    "            count += 1\n",
    "    return count / len(compare)\n",
    "\n",
    "\n",
    "overall_accuracy(y_true, y_pred)"
   ]
  },
  {
   "cell_type": "markdown",
   "id": "794b8043-3e9e-49c1-8648-dab0e77d94df",
   "metadata": {},
   "source": [
    "**h)** Create a confusion matrix using the predicted and actual output values. You can use pandas crosstab function. "
   ]
  },
  {
   "cell_type": "code",
   "execution_count": 11,
   "id": "852f5b4f-ad07-4b41-9476-bbdc26f06624",
   "metadata": {},
   "outputs": [
    {
     "data": {
      "text/html": [
       "<div>\n",
       "<style scoped>\n",
       "    .dataframe tbody tr th:only-of-type {\n",
       "        vertical-align: middle;\n",
       "    }\n",
       "\n",
       "    .dataframe tbody tr th {\n",
       "        vertical-align: top;\n",
       "    }\n",
       "\n",
       "    .dataframe thead th {\n",
       "        text-align: right;\n",
       "    }\n",
       "</style>\n",
       "<table border=\"1\" class=\"dataframe\">\n",
       "  <thead>\n",
       "    <tr style=\"text-align: right;\">\n",
       "      <th>predicted</th>\n",
       "      <th>0</th>\n",
       "      <th>1</th>\n",
       "    </tr>\n",
       "    <tr>\n",
       "      <th>actual</th>\n",
       "      <th></th>\n",
       "      <th></th>\n",
       "    </tr>\n",
       "  </thead>\n",
       "  <tbody>\n",
       "    <tr>\n",
       "      <th>0</th>\n",
       "      <td>6</td>\n",
       "      <td>1</td>\n",
       "    </tr>\n",
       "    <tr>\n",
       "      <th>1</th>\n",
       "      <td>0</td>\n",
       "      <td>3</td>\n",
       "    </tr>\n",
       "  </tbody>\n",
       "</table>\n",
       "</div>"
      ],
      "text/plain": [
       "predicted  0  1\n",
       "actual         \n",
       "0          6  1\n",
       "1          0  3"
      ]
     },
     "execution_count": 11,
     "metadata": {},
     "output_type": "execute_result"
    }
   ],
   "source": [
    "pd.crosstab(y_true, y_pred, rownames=[\"actual\"], colnames=[\"predicted\"])"
   ]
  },
  {
   "cell_type": "markdown",
   "id": "37d92d41-f725-4871-bbc5-60b08c4422d4",
   "metadata": {},
   "source": [
    "**i)** Supose the test set data is as follows. \n",
    "\n",
    "|refund | marital_status | income_above_80k | cheat |\n",
    "|-------:|--------------:|-----------------:|------:|\n",
    "| no | single | yes | no |\n",
    "| no | single | yes | no |\n",
    "| no | married | yes | no |\n",
    "| no | divorced |no | no |\n",
    "| no | married | yes | no |\n",
    "| no | single | yes | no |\n",
    "| yes | single | yes | no |\n",
    "| no | single | yes | yes |\n",
    "| yes | married | yes | yes |\n",
    "| yes | single | no | yes |\n",
    "\n",
    "Apply the vectorized_predict function to the input of the test dataset to predict the output values for the test dataset. Include these predicted values as a column to the test dataset and called this column predicted_cheat. \n"
   ]
  },
  {
   "cell_type": "code",
   "execution_count": 12,
   "id": "c2b0ee23-9c41-4bd4-944e-5dc097333104",
   "metadata": {},
   "outputs": [
    {
     "data": {
      "text/html": [
       "<div>\n",
       "<style scoped>\n",
       "    .dataframe tbody tr th:only-of-type {\n",
       "        vertical-align: middle;\n",
       "    }\n",
       "\n",
       "    .dataframe tbody tr th {\n",
       "        vertical-align: top;\n",
       "    }\n",
       "\n",
       "    .dataframe thead th {\n",
       "        text-align: right;\n",
       "    }\n",
       "</style>\n",
       "<table border=\"1\" class=\"dataframe\">\n",
       "  <thead>\n",
       "    <tr style=\"text-align: right;\">\n",
       "      <th></th>\n",
       "      <th>refund</th>\n",
       "      <th>marital_status</th>\n",
       "      <th>income_above_80k</th>\n",
       "      <th>cheat</th>\n",
       "      <th>predicted_cheat</th>\n",
       "    </tr>\n",
       "  </thead>\n",
       "  <tbody>\n",
       "    <tr>\n",
       "      <th>0</th>\n",
       "      <td>no</td>\n",
       "      <td>single</td>\n",
       "      <td>yes</td>\n",
       "      <td>no</td>\n",
       "      <td>1</td>\n",
       "    </tr>\n",
       "    <tr>\n",
       "      <th>1</th>\n",
       "      <td>no</td>\n",
       "      <td>single</td>\n",
       "      <td>yes</td>\n",
       "      <td>no</td>\n",
       "      <td>1</td>\n",
       "    </tr>\n",
       "    <tr>\n",
       "      <th>2</th>\n",
       "      <td>no</td>\n",
       "      <td>married</td>\n",
       "      <td>yes</td>\n",
       "      <td>no</td>\n",
       "      <td>0</td>\n",
       "    </tr>\n",
       "    <tr>\n",
       "      <th>3</th>\n",
       "      <td>no</td>\n",
       "      <td>divorced</td>\n",
       "      <td>no</td>\n",
       "      <td>no</td>\n",
       "      <td>0</td>\n",
       "    </tr>\n",
       "    <tr>\n",
       "      <th>4</th>\n",
       "      <td>no</td>\n",
       "      <td>married</td>\n",
       "      <td>yes</td>\n",
       "      <td>no</td>\n",
       "      <td>0</td>\n",
       "    </tr>\n",
       "    <tr>\n",
       "      <th>5</th>\n",
       "      <td>no</td>\n",
       "      <td>single</td>\n",
       "      <td>yes</td>\n",
       "      <td>no</td>\n",
       "      <td>1</td>\n",
       "    </tr>\n",
       "    <tr>\n",
       "      <th>6</th>\n",
       "      <td>yes</td>\n",
       "      <td>single</td>\n",
       "      <td>yes</td>\n",
       "      <td>no</td>\n",
       "      <td>0</td>\n",
       "    </tr>\n",
       "    <tr>\n",
       "      <th>7</th>\n",
       "      <td>no</td>\n",
       "      <td>single</td>\n",
       "      <td>yes</td>\n",
       "      <td>yes</td>\n",
       "      <td>1</td>\n",
       "    </tr>\n",
       "    <tr>\n",
       "      <th>8</th>\n",
       "      <td>yes</td>\n",
       "      <td>married</td>\n",
       "      <td>yes</td>\n",
       "      <td>yes</td>\n",
       "      <td>0</td>\n",
       "    </tr>\n",
       "    <tr>\n",
       "      <th>9</th>\n",
       "      <td>yes</td>\n",
       "      <td>single</td>\n",
       "      <td>no</td>\n",
       "      <td>yes</td>\n",
       "      <td>0</td>\n",
       "    </tr>\n",
       "  </tbody>\n",
       "</table>\n",
       "</div>"
      ],
      "text/plain": [
       "  refund marital_status income_above_80k cheat  predicted_cheat\n",
       "0     no         single              yes    no                1\n",
       "1     no         single              yes    no                1\n",
       "2     no        married              yes    no                0\n",
       "3     no       divorced               no    no                0\n",
       "4     no        married              yes    no                0\n",
       "5     no         single              yes    no                1\n",
       "6    yes         single              yes    no                0\n",
       "7     no         single              yes   yes                1\n",
       "8    yes        married              yes   yes                0\n",
       "9    yes         single               no   yes                0"
      ]
     },
     "execution_count": 12,
     "metadata": {},
     "output_type": "execute_result"
    }
   ],
   "source": [
    "test = pd.read_csv(\"a2_data_i.csv\")\n",
    "y_pred = vectorized_predict(test)\n",
    "test[\"predicted_cheat\"] = y_pred\n",
    "test"
   ]
  },
  {
   "cell_type": "markdown",
   "id": "b8c95108-f83d-4ec2-81d7-74124de6d786",
   "metadata": {},
   "source": [
    "**j)** Apply the overall_accuracy function to the predicted out values and actual output values of the test set to compute the overall accuracy. Compare the overall accuracy of the test set and that of the training set. Is there overfitting? Why or why not? If there is overfitting, what would you do to avoid overfitting the rule to the training set? "
   ]
  },
  {
   "cell_type": "code",
   "execution_count": 13,
   "id": "4a57b386-d770-47cb-87c7-3955b3f103e2",
   "metadata": {},
   "outputs": [
    {
     "data": {
      "text/plain": [
       "0.5"
      ]
     },
     "execution_count": 13,
     "metadata": {},
     "output_type": "execute_result"
    }
   ],
   "source": [
    "labels = test[\"cheat\"]\n",
    "y_true = pd.get_dummies(labels, drop_first=True).squeeze().values\n",
    "overall_accuracy(y_true, y_pred)"
   ]
  },
  {
   "cell_type": "markdown",
   "id": "b0ec39a0-ba83-4943-88e0-13a8ab8a6178",
   "metadata": {},
   "source": [
    "#### Response\n",
    "Some of the variables from the test set are not conforming to the original decision tree logic. For example, sample on index 0 should be predicted as cheat according to the orinal decision tree of refund=no, marital_status=single, and income_above_80k=yes. Also sample on index 9, should be predicted as cheat of no because the marital_status=married. "
   ]
  },
  {
   "cell_type": "markdown",
   "id": "9810d116-5116-466a-b521-3da489e874d5",
   "metadata": {},
   "source": [
    "## Question 2 \n",
    "You will use the same training dataset provided in question 1. Suppose we wanted to create one rule using only one attribute that best classifies the input data, you will need to write a function or an algorithm to find that best attribute. There are different approaches we can use to evaluate the best attritubute that will classify our data with the highest accuracy. One of the accuracy measures we can use to find the best attribute is information gain, which uses entropy. \n",
    "\n",
    "**a)** Given the training dataset in question 1, write a function that computes the entropy of output variable. The function should take the entire training dataset, and the name of the output variable as arguments and return the entropy value. You can call the function, entropy. \n",
    "Note that entropy H(S) of the target variable T with possible values $ C_i $ for a set of S examples is given by:\n",
    "\n",
    "$ H(S) =  \\sum_{i=1}^{c} p_{i}\\log_{2}p_{i} $\n",
    "\n",
    "\n",
    "where $ p_i $ is proportion of class $ c_i $  in the S examples \n",
    "\n",
    "Alternatively, you could also define entropy for a binary target variable as:\n",
    "\n",
    "$ Entropy = -p \\log_{2}p-(1-p)\\log_{2}(1-p) $\n",
    " \n",
    "Where p = proportion of the desired class or proportion of “yes” in the given data. \n",
    "\n",
    "Apply the entropy function to the training dataset to compute the entropy. Do you think the data is more pure, less pure or more/less pure?\n"
   ]
  },
  {
   "cell_type": "code",
   "execution_count": 14,
   "id": "7cdde0db-30a5-4cc4-89d1-72cb3182e928",
   "metadata": {},
   "outputs": [],
   "source": [
    "labels = taxes[\"cheat\"]\n",
    "y_true = pd.get_dummies(labels, drop_first=True).squeeze().values"
   ]
  },
  {
   "cell_type": "code",
   "execution_count": 15,
   "id": "0735318c-43c7-42c2-93d5-82c7be3c854e",
   "metadata": {},
   "outputs": [],
   "source": [
    "p = y_true.sum() / len(y_true)"
   ]
  },
  {
   "cell_type": "code",
   "execution_count": 16,
   "id": "0a008350-609c-44f4-b0e8-0099abeed7e8",
   "metadata": {},
   "outputs": [
    {
     "data": {
      "text/plain": [
       "0.8812908992306927"
      ]
     },
     "execution_count": 16,
     "metadata": {},
     "output_type": "execute_result"
    }
   ],
   "source": [
    "from math import log2\n",
    "\n",
    "\n",
    "def entropy(data, target):\n",
    "    # convert label column to numbers\n",
    "    labels = data[target]\n",
    "    labels = pd.get_dummies(labels, drop_first=True).squeeze().values\n",
    "\n",
    "    value, counts = np.unique(labels, return_counts=True)\n",
    "    probs = counts / len(labels)\n",
    "\n",
    "    ent = 0\n",
    "    # calc entropy\n",
    "    for prob in probs:\n",
    "        if prob > 0:\n",
    "            # use log from math and set base to 2\n",
    "            ent += prob * log2(prob)\n",
    "    return -ent\n",
    "\n",
    "\n",
    "entropy(taxes, \"cheat\")"
   ]
  },
  {
   "cell_type": "code",
   "execution_count": 17,
   "id": "e9da1958-41b6-4980-91f9-6cbdd538fba8",
   "metadata": {},
   "outputs": [
    {
     "data": {
      "text/plain": [
       "0.8812908992306927"
      ]
     },
     "execution_count": 17,
     "metadata": {},
     "output_type": "execute_result"
    }
   ],
   "source": [
    "def entropy2(data, target):\n",
    "    # convert label column to numbers\n",
    "    labels = data[target]\n",
    "    labels = pd.get_dummies(labels, drop_first=True).squeeze().values\n",
    "\n",
    "    # calculate p\n",
    "    p = labels.sum() / len(labels)\n",
    "\n",
    "    # calc entropy\n",
    "    return -p * np.log2(p) - (1 - p) * np.log2(1 - p)\n",
    "\n",
    "\n",
    "entropy2(taxes, \"cheat\")"
   ]
  },
  {
   "cell_type": "markdown",
   "id": "0a48a4a2-fd64-479b-b622-3332bb2cca60",
   "metadata": {},
   "source": [
    "**b)** Create another function that takes the dataset, the name of the output variable, and a specific input variable as arguments and returns the information gain for a split of the data on that specific input variable. You can call the function, information_gain. Information gain is defined as:\n",
    "\n",
    "Entropy before split - weighted entropy after split\n",
    "\n",
    "$ Gain(S,A) = H(s) - \\sum_{v\\in Value(A)} \\frac{|s_v|}{|s|}H(s_v) $\n",
    "\n",
    "A: candidate attribute <br>\n",
    "v: possible values of A <br>\n",
    "S: set of examples <br>\n",
    "$ S_v $: subset of examples where A=v <br>\n",
    "\n",
    " \n",
    "Apply the information_gain function to each input variable to compute the information gain for each input variable. Which input variables is the best (has the highest information gain) for creating one-rule? \n"
   ]
  },
  {
   "cell_type": "code",
   "execution_count": 18,
   "id": "cd6cfff8-baf9-4589-81c8-4e786d72fcf4",
   "metadata": {},
   "outputs": [],
   "source": [
    "dummies = pd.get_dummies(taxes, drop_first=True)\n",
    "dummies.columns = [\"refund\", \"married\", \"single\", \"80k\", \"cheat\"]"
   ]
  },
  {
   "cell_type": "code",
   "execution_count": 19,
   "id": "28281367-1632-48af-8fd3-0a9734dc1add",
   "metadata": {},
   "outputs": [],
   "source": [
    "def information_gain(data, split_name, target_name):\n",
    "    \"\"\"\n",
    "    Calculate information gain given a data set, column to split on, and target\n",
    "    \"\"\"\n",
    "    # Calculate the original entropy\n",
    "    original_entropy = entropy(data, target_name)\n",
    "\n",
    "    # Find the unique values in the column\n",
    "    values = data[split_name].unique()\n",
    "\n",
    "    # Make two subsets of the data, based on the unique values\n",
    "    left_split = data[data[split_name] == values[0]]\n",
    "\n",
    "    # print('left')\n",
    "    # print(left_split)\n",
    "\n",
    "    right_split = data[data[split_name] == values[1]]\n",
    "    # print('right')\n",
    "    # print(right_split)\n",
    "\n",
    "    # Loop through the splits and calculate the subset entropies\n",
    "    to_subtract = 0\n",
    "    for subset in [left_split, right_split]:\n",
    "        prob = subset.shape[0] / data.shape[0]\n",
    "        # print('subset')\n",
    "        # print(subset)\n",
    "        # print(entropy(subset, target_name))\n",
    "        to_subtract += prob * entropy(subset, target_name)\n",
    "\n",
    "    # Return information gain\n",
    "    return original_entropy - to_subtract"
   ]
  },
  {
   "cell_type": "code",
   "execution_count": 20,
   "id": "9327378b-400d-4a70-ac48-df224fc9bacc",
   "metadata": {},
   "outputs": [
    {
     "data": {
      "text/plain": [
       "0.19163120400671663"
      ]
     },
     "execution_count": 20,
     "metadata": {},
     "output_type": "execute_result"
    }
   ],
   "source": [
    "information_gain(dummies, \"refund\", \"cheat\")"
   ]
  },
  {
   "cell_type": "code",
   "execution_count": 21,
   "id": "90a948bd-77f1-46f5-a05e-5f4e003c4eaf",
   "metadata": {},
   "outputs": [
    {
     "data": {
      "text/plain": [
       "0.19163120400671663"
      ]
     },
     "execution_count": 21,
     "metadata": {},
     "output_type": "execute_result"
    }
   ],
   "source": [
    "information_gain(dummies, \"80k\", \"cheat\")"
   ]
  },
  {
   "cell_type": "code",
   "execution_count": 22,
   "id": "bc53d57a-b154-453b-96f4-4d1e660bd148",
   "metadata": {},
   "outputs": [
    {
     "data": {
      "text/plain": [
       "0.2812908992306927"
      ]
     },
     "execution_count": 22,
     "metadata": {},
     "output_type": "execute_result"
    }
   ],
   "source": [
    "information_gain(dummies, \"married\", \"cheat\")"
   ]
  },
  {
   "cell_type": "code",
   "execution_count": 23,
   "id": "6126f77a-d3cf-4222-8829-bb0921cfcbe8",
   "metadata": {},
   "outputs": [
    {
     "data": {
      "text/plain": [
       "0.09127744624168022"
      ]
     },
     "execution_count": 23,
     "metadata": {},
     "output_type": "execute_result"
    }
   ],
   "source": [
    "information_gain(dummies, \"single\", \"cheat\")"
   ]
  },
  {
   "cell_type": "markdown",
   "id": "da7c64f7-6bbb-41ae-b05d-36116f52aa0c",
   "metadata": {},
   "source": [
    "**c)** Do a cross tabulation using the best attribute obtained in 2b above and the output variable in the training dataset. "
   ]
  },
  {
   "cell_type": "code",
   "execution_count": 24,
   "id": "d796fc6d-7ab1-4c19-ae29-2dce491c74fe",
   "metadata": {},
   "outputs": [
    {
     "data": {
      "text/html": [
       "<div>\n",
       "<style scoped>\n",
       "    .dataframe tbody tr th:only-of-type {\n",
       "        vertical-align: middle;\n",
       "    }\n",
       "\n",
       "    .dataframe tbody tr th {\n",
       "        vertical-align: top;\n",
       "    }\n",
       "\n",
       "    .dataframe thead th {\n",
       "        text-align: right;\n",
       "    }\n",
       "</style>\n",
       "<table border=\"1\" class=\"dataframe\">\n",
       "  <thead>\n",
       "    <tr style=\"text-align: right;\">\n",
       "      <th>predicted</th>\n",
       "      <th>0</th>\n",
       "      <th>1</th>\n",
       "    </tr>\n",
       "    <tr>\n",
       "      <th>actual</th>\n",
       "      <th></th>\n",
       "      <th></th>\n",
       "    </tr>\n",
       "  </thead>\n",
       "  <tbody>\n",
       "    <tr>\n",
       "      <th>0</th>\n",
       "      <td>3</td>\n",
       "      <td>4</td>\n",
       "    </tr>\n",
       "    <tr>\n",
       "      <th>1</th>\n",
       "      <td>3</td>\n",
       "      <td>0</td>\n",
       "    </tr>\n",
       "  </tbody>\n",
       "</table>\n",
       "</div>"
      ],
      "text/plain": [
       "predicted  0  1\n",
       "actual         \n",
       "0          3  4\n",
       "1          3  0"
      ]
     },
     "execution_count": 24,
     "metadata": {},
     "output_type": "execute_result"
    }
   ],
   "source": [
    "labels = taxes[\"cheat\"]\n",
    "y_true = pd.get_dummies(labels, drop_first=True).squeeze().values\n",
    "y_pred = np.where(taxes.marital_status == \"married\", 1, 0)\n",
    "pd.crosstab(y_true, y_pred, rownames=[\"actual\"], colnames=[\"predicted\"])"
   ]
  },
  {
   "cell_type": "markdown",
   "id": "fd83639a-8a64-4af4-a084-b81b9615b4dd",
   "metadata": {},
   "source": [
    "**d)** Draw a decision tree (use shapes in the word document) to show how the best variable can be used for classification. This is a decision tree with a single node or single variable. "
   ]
  },
  {
   "cell_type": "markdown",
   "id": "37cdc0e7-02e5-44d8-a0db-ce4150fd34a9",
   "metadata": {},
   "source": [
    "![married tree](images/married.png)"
   ]
  },
  {
   "cell_type": "markdown",
   "id": "c15576b9-de79-43f7-8c5f-b7af4531d1e8",
   "metadata": {},
   "source": [
    "**e)** Create a one-rule from the decision tree in 2d. The rule should containing an antecedent and a consequent. The antecedent should use only the best attribute and it’s value or values. "
   ]
  },
  {
   "cell_type": "code",
   "execution_count": 25,
   "id": "2daa4496-0af0-4fb1-938c-b066bd6a65b2",
   "metadata": {},
   "outputs": [
    {
     "name": "stdout",
     "output_type": "stream",
     "text": [
      "single cheat\n",
      "married not cheat\n",
      "single cheat\n",
      "married not cheat\n",
      "divorced cheat\n",
      "married not cheat\n",
      "divorced cheat\n",
      "single cheat\n",
      "married not cheat\n",
      "single cheat\n"
     ]
    }
   ],
   "source": [
    "for rec in taxes.marital_status:\n",
    "    # antecedent\n",
    "    if rec == \"married\":\n",
    "        # consequent\n",
    "        print(rec, \"not cheat\")\n",
    "    else:\n",
    "        # consequent\n",
    "        print(rec, \"cheat\")"
   ]
  },
  {
   "cell_type": "markdown",
   "id": "2510833d-b09d-4a9d-b073-bbd84493585e",
   "metadata": {},
   "source": [
    "**f)**\tUsing the antecedent of your rule, extract the data covered by the rule and compute the coverage of the rule. "
   ]
  },
  {
   "cell_type": "code",
   "execution_count": 26,
   "id": "4327d5a8-8e4e-4041-9a64-59e5c72c7af2",
   "metadata": {},
   "outputs": [
    {
     "data": {
      "text/plain": [
       "0      single\n",
       "1     married\n",
       "2      single\n",
       "3     married\n",
       "4    divorced\n",
       "5     married\n",
       "6    divorced\n",
       "7      single\n",
       "8     married\n",
       "9      single\n",
       "Name: marital_status, dtype: object"
      ]
     },
     "execution_count": 26,
     "metadata": {},
     "output_type": "execute_result"
    }
   ],
   "source": [
    "taxes.marital_status"
   ]
  },
  {
   "cell_type": "code",
   "execution_count": 27,
   "id": "5b597f6f-0596-4e97-91d3-4511c4caf387",
   "metadata": {},
   "outputs": [
    {
     "name": "stdout",
     "output_type": "stream",
     "text": [
      "cheat\n",
      "not cheat\n",
      "cheat\n",
      "not cheat\n",
      "cheat\n",
      "not cheat\n",
      "cheat\n",
      "cheat\n",
      "not cheat\n",
      "cheat\n"
     ]
    }
   ],
   "source": [
    "for rec in taxes.marital_status:\n",
    "    # antecedent\n",
    "    if rec == \"married\":\n",
    "        # consequent\n",
    "        print(\"not cheat\")\n",
    "    else:\n",
    "        # consequent\n",
    "        print(\"cheat\")"
   ]
  },
  {
   "cell_type": "code",
   "execution_count": 28,
   "id": "f4a2e4d0-bf35-43f6-9648-c2df3efc9dbb",
   "metadata": {},
   "outputs": [
    {
     "name": "stdout",
     "output_type": "stream",
     "text": [
      "coverage: 0.7\n"
     ]
    }
   ],
   "source": [
    "y_pred = []\n",
    "for rec in taxes.marital_status:\n",
    "    # antecedent\n",
    "    if rec == \"married\":\n",
    "        # consequent\n",
    "        y_pred.append(0)\n",
    "    else:\n",
    "        # consequent\n",
    "        y_pred.append(1)\n",
    "\n",
    "\n",
    "y_pred = np.array(y_pred)\n",
    "coverage = sum(np.where(y_true == y_pred, 1, 0)) / len(y_pred)\n",
    "print(f\"coverage: {coverage}\")"
   ]
  },
  {
   "cell_type": "markdown",
   "id": "5e3df327-1fde-40f1-8884-6de86de20f25",
   "metadata": {},
   "source": [
    "**g)**\tUsing the antecedent of your rule, extract the data covered by the rule and compute the accuracy of the rule. "
   ]
  },
  {
   "cell_type": "code",
   "execution_count": 29,
   "id": "d360da6a-0223-498f-a47f-163dddd7df44",
   "metadata": {},
   "outputs": [
    {
     "data": {
      "text/plain": [
       "0.7"
      ]
     },
     "execution_count": 29,
     "metadata": {},
     "output_type": "execute_result"
    }
   ],
   "source": [
    "y_pred = []\n",
    "for rec in taxes.marital_status:\n",
    "    # antecedent\n",
    "    if rec == \"married\":\n",
    "        # consequent\n",
    "        y_pred.append(0)\n",
    "    else:\n",
    "        # consequent\n",
    "        y_pred.append(1)\n",
    "\n",
    "\n",
    "y_pred = np.array(y_pred)\n",
    "overall_accuracy(y_true, y_pred)\n",
    "# print(y_true == y_pred)"
   ]
  },
  {
   "cell_type": "markdown",
   "id": "1293cfdc-da7e-41ee-a90d-d6c5d1f9ead9",
   "metadata": {},
   "source": [
    "**h)**\tCreate a function that implents the rule as an if-else statement to predict the outcomes of any instance (a vector of values associated with the input variables for a specific individual). The function should be able to take one or more instances as an argument in the form of a dataframe or numpy arrary. "
   ]
  },
  {
   "cell_type": "code",
   "execution_count": 30,
   "id": "58527aab-724f-473c-8788-4bd67d00e76b",
   "metadata": {},
   "outputs": [],
   "source": [
    "if isinstance(taxes, pd.DataFrame):\n",
    "    taxes.apply(rule_tree, axis=1).values.astype(\"uint8\")"
   ]
  },
  {
   "cell_type": "code",
   "execution_count": 31,
   "id": "6d9c3db0-b5ce-49b2-a636-5525e076c780",
   "metadata": {},
   "outputs": [
    {
     "data": {
      "text/plain": [
       "(10, 4)"
      ]
     },
     "execution_count": 31,
     "metadata": {},
     "output_type": "execute_result"
    }
   ],
   "source": [
    "taxes.shape"
   ]
  },
  {
   "cell_type": "code",
   "execution_count": 32,
   "id": "32250971-a8bb-4686-8be3-28e3ad199bf5",
   "metadata": {},
   "outputs": [
    {
     "data": {
      "text/plain": [
       "(4,)"
      ]
     },
     "execution_count": 32,
     "metadata": {},
     "output_type": "execute_result"
    }
   ],
   "source": [
    "taxes.loc[0].shape"
   ]
  },
  {
   "cell_type": "code",
   "execution_count": 33,
   "id": "57093056-2d12-404e-928e-c4f54a2e4b82",
   "metadata": {},
   "outputs": [],
   "source": [
    "def rule(data):\n",
    "    # if data is a single instance\n",
    "    if data.shape == (4,):\n",
    "        # antecedent\n",
    "        if data[1] == \"married\":\n",
    "            # consequent\n",
    "            y_pred = [0]\n",
    "        else:\n",
    "            # consequent\n",
    "            y_pred = [1]\n",
    "        y_pred = np.array(y_pred)\n",
    "    # if data is a dataframe of multiple instances\n",
    "    else:\n",
    "        y_pred = []\n",
    "        for rec in data.marital_status:\n",
    "            # antecedent\n",
    "            if rec == \"married\":\n",
    "                # consequent\n",
    "                y_pred.append(0)\n",
    "            else:\n",
    "                # consequent\n",
    "                y_pred.append(1)\n",
    "        y_pred = np.array(y_pred)\n",
    "    # return predictions\n",
    "    return y_pred"
   ]
  },
  {
   "cell_type": "code",
   "execution_count": 34,
   "id": "ade3b874-0b1c-4c03-b1ee-530827d11d98",
   "metadata": {},
   "outputs": [
    {
     "data": {
      "text/plain": [
       "array([1, 0, 1, 0, 1, 0, 1, 1, 0, 1])"
      ]
     },
     "execution_count": 34,
     "metadata": {},
     "output_type": "execute_result"
    }
   ],
   "source": [
    "# test rule on entire dataframe\n",
    "rule(taxes)"
   ]
  },
  {
   "cell_type": "code",
   "execution_count": 35,
   "id": "42e55524-5591-4fae-933c-e2609daf3af6",
   "metadata": {},
   "outputs": [
    {
     "data": {
      "text/plain": [
       "array([1])"
      ]
     },
     "execution_count": 35,
     "metadata": {},
     "output_type": "execute_result"
    }
   ],
   "source": [
    "# test rule on a single instance\n",
    "rule(taxes.loc[0])"
   ]
  },
  {
   "cell_type": "code",
   "execution_count": 36,
   "id": "da1e5eb8-e39c-466a-9984-c672f2e12a5f",
   "metadata": {},
   "outputs": [
    {
     "data": {
      "text/plain": [
       "array([0])"
      ]
     },
     "execution_count": 36,
     "metadata": {},
     "output_type": "execute_result"
    }
   ],
   "source": [
    "# test rule on a single instance\n",
    "rule(taxes.loc[1])"
   ]
  },
  {
   "cell_type": "code",
   "execution_count": 37,
   "id": "4705ca02-7f64-4236-895e-654df8856f4c",
   "metadata": {},
   "outputs": [
    {
     "data": {
      "text/plain": [
       "array([1])"
      ]
     },
     "execution_count": 37,
     "metadata": {},
     "output_type": "execute_result"
    }
   ],
   "source": [
    "# test rule on a single instance\n",
    "rule(taxes.loc[2])"
   ]
  },
  {
   "cell_type": "markdown",
   "id": "d9f0e4a4-bf76-4d83-8ec4-05270c6ff394",
   "metadata": {},
   "source": [
    "**i)**\tImplemement the function on the training set and test set in question 1 to get the predicted outputs for the training set and test set.  "
   ]
  },
  {
   "cell_type": "code",
   "execution_count": 38,
   "id": "ae0efc6e-c464-4309-ad62-5f3c7fb78eb8",
   "metadata": {},
   "outputs": [
    {
     "data": {
      "text/plain": [
       "array([1, 0, 1, 0, 1, 0, 1, 1, 0, 1])"
      ]
     },
     "execution_count": 38,
     "metadata": {},
     "output_type": "execute_result"
    }
   ],
   "source": [
    "training_pred = rule(taxes)\n",
    "training_pred"
   ]
  },
  {
   "cell_type": "code",
   "execution_count": 39,
   "id": "afd915a1-1293-422e-8186-8a2a6cb154a3",
   "metadata": {},
   "outputs": [
    {
     "data": {
      "text/plain": [
       "array([1, 1, 0, 1, 0, 1, 1, 1, 0, 1])"
      ]
     },
     "execution_count": 39,
     "metadata": {},
     "output_type": "execute_result"
    }
   ],
   "source": [
    "test_pred = rule(test)\n",
    "test_pred"
   ]
  },
  {
   "cell_type": "markdown",
   "id": "8ddbd9e1-c565-4fee-bc9d-8885523fa22d",
   "metadata": {},
   "source": [
    "**j)**\tWhat is the overall prediction accuracies for the training set and test set? You can use the overall_accuracy function you initially defined. "
   ]
  },
  {
   "cell_type": "code",
   "execution_count": 40,
   "id": "dd3697b4-b250-475c-bbe9-72a9061d477e",
   "metadata": {},
   "outputs": [],
   "source": [
    "# train y_true\n",
    "labels = taxes[\"cheat\"]\n",
    "train_y_true = pd.get_dummies(labels, drop_first=True).squeeze().values\n",
    "\n",
    "# test y_true\n",
    "labels = test[\"cheat\"]\n",
    "test_y_true = pd.get_dummies(labels, drop_first=True).squeeze().values"
   ]
  },
  {
   "cell_type": "code",
   "execution_count": 41,
   "id": "307b9504-d864-438d-bc5f-9921fd6833bf",
   "metadata": {},
   "outputs": [
    {
     "data": {
      "text/plain": [
       "array([0, 0, 0, 0, 1, 0, 0, 1, 0, 1], dtype=uint8)"
      ]
     },
     "execution_count": 41,
     "metadata": {},
     "output_type": "execute_result"
    }
   ],
   "source": [
    "train_y_true"
   ]
  },
  {
   "cell_type": "code",
   "execution_count": 42,
   "id": "95f98e0f-9f50-4952-b101-9a935aba2efd",
   "metadata": {},
   "outputs": [
    {
     "data": {
      "text/plain": [
       "array([0, 0, 0, 0, 0, 0, 0, 1, 1, 1], dtype=uint8)"
      ]
     },
     "execution_count": 42,
     "metadata": {},
     "output_type": "execute_result"
    }
   ],
   "source": [
    "test_y_true"
   ]
  },
  {
   "cell_type": "code",
   "execution_count": 43,
   "id": "ff0d9c2c-2c83-4111-ab4a-1627c77faef2",
   "metadata": {},
   "outputs": [
    {
     "data": {
      "text/plain": [
       "0.7"
      ]
     },
     "execution_count": 43,
     "metadata": {},
     "output_type": "execute_result"
    }
   ],
   "source": [
    "# training data accuracy\n",
    "overall_accuracy(train_y_true, training_pred)"
   ]
  },
  {
   "cell_type": "code",
   "execution_count": 44,
   "id": "0394b294-3053-40c9-b5da-80b52d7a7e53",
   "metadata": {},
   "outputs": [
    {
     "data": {
      "text/plain": [
       "0.4"
      ]
     },
     "execution_count": 44,
     "metadata": {},
     "output_type": "execute_result"
    }
   ],
   "source": [
    "# test data accuracy\n",
    "overall_accuracy(test_y_true, test_pred)"
   ]
  },
  {
   "cell_type": "markdown",
   "id": "10be5f05-aacb-4c52-91f8-87cde4c2322c",
   "metadata": {},
   "source": [
    "**k)**\tDo you think there is overfitting or underfitting? Why or why not? "
   ]
  },
  {
   "cell_type": "markdown",
   "id": "1b7792e4-a1cf-451f-9692-94cf639e7420",
   "metadata": {},
   "source": [
    "Yes it looks like our single rule classifier is overfitting because it has a higher accuracy on the training data than it does on the test data."
   ]
  }
 ],
 "metadata": {
  "kernelspec": {
   "display_name": "Python 3 (ipykernel)",
   "language": "python",
   "name": "python3"
  },
  "language_info": {
   "codemirror_mode": {
    "name": "ipython",
    "version": 3
   },
   "file_extension": ".py",
   "mimetype": "text/x-python",
   "name": "python",
   "nbconvert_exporter": "python",
   "pygments_lexer": "ipython3",
   "version": "3.9.7"
  }
 },
 "nbformat": 4,
 "nbformat_minor": 5
}
