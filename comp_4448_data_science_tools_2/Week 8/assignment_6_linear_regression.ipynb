{
 "cells": [
  {
   "cell_type": "markdown",
   "metadata": {},
   "source": [
    "# Assignment 6 - Linear Regression\n",
    "## Raja Jain | 2022-03-05"
   ]
  },
  {
   "cell_type": "code",
   "execution_count": 1,
   "metadata": {},
   "outputs": [],
   "source": [
    "import string\n",
    "from pprint import pprint as pp\n",
    "import docx\n",
    "import matplotlib.pyplot as plt\n",
    "import numpy as np\n",
    "import pandas as pd\n",
    "import sweetviz as sv\n",
    "import statsmodels.api as sm\n",
    "from matplotlib import pyplot as plt\n",
    "from nltk.corpus import stopwords\n",
    "from nltk.tokenize import word_tokenize\n",
    "from pandarallel import pandarallel\n",
    "from scipy.stats import norm\n",
    "from sklearn import metrics\n",
    "from sklearn.ensemble import RandomForestClassifier, RandomForestRegressor\n",
    "from sklearn.feature_extraction.text import TfidfVectorizer\n",
    "from sklearn.model_selection import GridSearchCV, cross_val_score, train_test_split\n",
    "from sklearn.naive_bayes import BernoulliNB, CategoricalNB, ComplementNB, GaussianNB, MultinomialNB\n",
    "from sklearn.neighbors import KNeighborsClassifier, KNeighborsRegressor\n",
    "from sklearn.pipeline import Pipeline\n",
    "from sklearn.preprocessing import LabelEncoder, StandardScaler\n",
    "from sklearn.linear_model import SGDRegressor, LinearRegression, Lasso, Ridge\n",
    "import seaborn as sns\n",
    "import warnings\n",
    "\n",
    "warnings.filterwarnings(\"ignore\")\n",
    "\n",
    "np.set_printoptions(suppress=True)\n",
    "\n",
    "\n",
    "def getText(filename):\n",
    "    doc = docx.Document(filename)\n",
    "    fullText = []\n",
    "    for para in doc.paragraphs:\n",
    "        fullText.append(para.text)\n",
    "    return \"\\n\".join(fullText)\n"
   ]
  },
  {
   "cell_type": "code",
   "execution_count": 2,
   "metadata": {},
   "outputs": [
    {
     "name": "stdout",
     "output_type": "stream",
     "text": [
      "COMP 4448: Data Science Tools II\t\t\t\t\t\t          Assignment 6\n",
      "Directions: Do this assignment in Jupyter Notebook and provide screenshots of code and output in this word document wherever required. You will upload this word document containing screenshots of code and answers as well as your Jupyter Notebook to Canvas. All assignments will be submitted and graded through canvas and grades will be transferred to the 2U platform. \n",
      "Goal: The goal of this assignment is to give you the opportunity to implement the Gradient Algorithm from scratch as well as using tools built into sklearn. You will also run regression analysis, evaluate, test assumptions and provide interpretations using your own data.\n",
      "Packages: Core packages you may need for this assignment include numpy, pandas, sklearn, matplotlib.pyplot and/or seaborn. \n",
      "Question 1\n",
      "Use the entire health data provided on canvas for this question. Here are the first few rows of the data. \n",
      "\n",
      "The variables are described as follows:\n",
      "age  =  Age in years divided by 100.\n",
      "income = Annual income in tens of thousands of dollars.\n",
      "illness = Number of illnesses in past 2 weeks.\n",
      "reduced = Number of days of reduced activity in past 2 weeks due to illness or injury.\n",
      "health = General health questionnaire score using Goldberg's method. Note that higher health scores indicate worse health condition. \n",
      "Use the age, income, illness and reduced variables as input variables and use the health variable as an output variable. You will find the parameters or coefficients (intercept and slopes) of a regression equation that models the relationship between the input and output variables. First use the StandardScaler() in sklearn to standardize the input data before you run your algorithm or fit your model. \n",
      "Implement batch gradient descent from scratch to find the regression parameters as in the pseudo code below:\n",
      "\n",
      "\n",
      "\n",
      "\n",
      "Implement gradient descent using the \n",
      "\n",
      "\n",
      "\n",
      "\n",
      "\n",
      "\n",
      "\n",
      "\n",
      "\n",
      "\n",
      "\n",
      "\n",
      "Paste a screenshot of your code and results showing the coefficients of the regression equation here.\n",
      "\n",
      "Now, use a vectorized or matrix implementation instead of having a line of code for each x or b. That mean, you can a create a vector of b’s and a feature matrix, X where you have an additional column for x0 whose values are 1’s. x0 corresponds to b0. You can still implement it as described in the code above. \n",
      "See the “Gradient Descent Vector/Matrix Implementation” document on canvas for additional tips\n",
      "\n",
      "Paste a screenshot of your code and results showing the coefficients of the regression equation here (are the results similar to what you got before?)\n",
      "\n",
      "\n",
      "\n",
      "\n",
      "\n",
      "\n",
      "Use the scikit-learn package to implement the stochastic gradient descent to find the parameters of the regression equation. See the documentation here:  \n",
      "Paste a screenshot of your code and results showing the coefficients of the regression equation here.\n",
      "\n",
      "Are you results in a) and b) and c) similar? The results don’t have to be exact but should be close for most of the betta values. \n",
      "Question 2\n",
      "You will implement a multiple regression from a statistical perspective to explore the relationship between the input variables and the output variable. You will use the health data again.  \n",
      "Use the statsmodels package () to implement a multiple linear regression using the entire health data to get a more detailed regression summary. \n",
      "Below is some pseudo code for implementation, see the documentation for details. \n",
      "import numpy as np\n",
      "import statsmodels.api as sm\n",
      "\n",
      "feature_matrix = sm.add_constant(X_data, prepend=False)\n",
      "# Fit and summarize OLS model\n",
      "model = sm.OLS(y_data, feature_matrix)\n",
      "res = model.fit()\n",
      "print(res.summary())\n",
      " Paste a screenshot of your code and summary here\n",
      "\n",
      "\n",
      "\n",
      "Does the model fit the data overall? That is, do all the x’s overall explain a good amount of variance in health outcome? Use information from your results to support your answer. \n",
      "Write your answer here\n",
      "\n",
      "\n",
      "Do age, income, illness and reduced variables individually  significantly predict health score? Use information from your summary of the regression results to support your answer.\n",
      "Write your answer here\n",
      "\n",
      " \n",
      "Which variable is the best predictor of health score? Why? \n",
      "Write your answer here\n",
      "\n",
      "\n",
      "Extract the residuals of the model and test the assumptions normality and homogeneity of variance for the regression model. Are the assumptions met? Use reg.resid syntax to extract the residuals.\n",
      "Paste a screenshot of your code and plot here, then explain with reasons (based on the plot) whether assumptions are met or not. \n",
      " \n",
      "To further verify the normality assumption, create a histogram for the residuals. Does the histogram look like a normal distribution? \n",
      "Paste a screenshot of your code and plot here, then explain with reasons (based on the plot) whether assumptions are met or not. \n",
      "\n",
      "Test the linearity assumption by creating separate scatter plots for each input variable versus output variable. According to your plots, are the linearity assumptions met? \n",
      "Paste a screenshot of your code and plot here, then explain with reasons (based on the plot) whether assumptions are met or not. Decisions based on visualization can be subjective. \n",
      " \n",
      "\n",
      "Extract the predicted output values from the model, then create a scatter plot of the predicted output versus actual output (from the data provided). This plot is also used to evaluate the accuracy of the model. According to the plot, is your model good for predicting health scores? Use the reg.predict() method to extract the predicted values. \n",
      "Paste a screenshot of your code and plot here, explain whether the model fits the data well using the plot. \n",
      "\n",
      "\n",
      "Check for multi-collinearity by generating a covariance matrix for the input data . You can use the .cov() method of pandas (). Do you think there is multicollinearity among the input variables? \n",
      "Paste a screenshot of your code here and, write your answer. \n",
      "\n",
      "Question 3:\n",
      "Find your own dataset from an online source with at least 3 input variables. Here is a suggested source of data but you don’t have to use it: .  There should be one output variable of interest in the data. All the data used for analysis should be continuous. Clean the data as you find necessary, standardize the data and split it into training and test data using an appropriate split ratio. \n",
      "Construct a linear regression model using ordinary least squares method by applying the .LinearRegression() constructor in sklearn and find the training and test accuracy of this model using mean square error (mse).  \n",
      "Paste a screenshot of your code and output here\n",
      "\n",
      "\n",
      "\n",
      "Check for overfitting. Is there overfitting? Support your answer with some results you generated. \n",
      "Paste a screenshot of your code and output here\n",
      "\n",
      "\n",
      "\n",
      "\n",
      "Fit a lasso regression on the data and check the training and test accuracy of the model using mse. Use the default alpha or penalty constant. \n",
      "Paste a screenshot of your code and output here\n",
      "\n",
      "\n",
      "\n",
      "Fit a ridge regression on the data and check the training and test accuracy of the model. Use the default alpha or penalty constant.  \n",
      "Paste a screenshot of your code and output here\n",
      "\n",
      "Which model is better, OLS, Lasso, or Ridge regression? \n",
      "Write your answer here with reasons. \n",
      "\n",
      "\n",
      "Tune the alpha hyperparameters of the lasso and ridge regression using any tuning technique of your choice? What is the best alpha value for the lasso regression and what is the best alpha value for the ridge regression?\n",
      "Write your answer here\n",
      "\n",
      "\n",
      "\n",
      "Note: There is no mini project for this assignment but your last assignment after this will have two mini projects (on logistic regression and clustering). \n"
     ]
    }
   ],
   "source": [
    "text = getText(\"Assignment 6 - Regression Analysis.docx\")\n",
    "print(text)\n"
   ]
  },
  {
   "cell_type": "code",
   "execution_count": 3,
   "metadata": {},
   "outputs": [
    {
     "data": {
      "text/html": [
       "<div>\n",
       "<style scoped>\n",
       "    .dataframe tbody tr th:only-of-type {\n",
       "        vertical-align: middle;\n",
       "    }\n",
       "\n",
       "    .dataframe tbody tr th {\n",
       "        vertical-align: top;\n",
       "    }\n",
       "\n",
       "    .dataframe thead th {\n",
       "        text-align: right;\n",
       "    }\n",
       "</style>\n",
       "<table border=\"1\" class=\"dataframe\">\n",
       "  <thead>\n",
       "    <tr style=\"text-align: right;\">\n",
       "      <th></th>\n",
       "      <th>age</th>\n",
       "      <th>income</th>\n",
       "      <th>illness</th>\n",
       "      <th>reduced</th>\n",
       "      <th>health</th>\n",
       "    </tr>\n",
       "  </thead>\n",
       "  <tbody>\n",
       "    <tr>\n",
       "      <th>0</th>\n",
       "      <td>-1.056765</td>\n",
       "      <td>-0.089896</td>\n",
       "      <td>-0.312123</td>\n",
       "      <td>1.086862</td>\n",
       "      <td>-0.102414</td>\n",
       "    </tr>\n",
       "    <tr>\n",
       "      <th>1</th>\n",
       "      <td>-1.056765</td>\n",
       "      <td>-0.360993</td>\n",
       "      <td>-0.312123</td>\n",
       "      <td>0.394185</td>\n",
       "      <td>-0.102414</td>\n",
       "    </tr>\n",
       "    <tr>\n",
       "      <th>2</th>\n",
       "      <td>-1.056765</td>\n",
       "      <td>0.858945</td>\n",
       "      <td>1.132944</td>\n",
       "      <td>-0.298492</td>\n",
       "      <td>-0.573210</td>\n",
       "    </tr>\n",
       "    <tr>\n",
       "      <th>3</th>\n",
       "      <td>-1.056765</td>\n",
       "      <td>-1.174285</td>\n",
       "      <td>-0.312123</td>\n",
       "      <td>-0.298492</td>\n",
       "      <td>-0.573210</td>\n",
       "    </tr>\n",
       "    <tr>\n",
       "      <th>4</th>\n",
       "      <td>-1.056765</td>\n",
       "      <td>-0.360993</td>\n",
       "      <td>0.410410</td>\n",
       "      <td>1.433200</td>\n",
       "      <td>-0.102414</td>\n",
       "    </tr>\n",
       "    <tr>\n",
       "      <th>...</th>\n",
       "      <td>...</td>\n",
       "      <td>...</td>\n",
       "      <td>...</td>\n",
       "      <td>...</td>\n",
       "      <td>...</td>\n",
       "    </tr>\n",
       "    <tr>\n",
       "      <th>5185</th>\n",
       "      <td>-0.910253</td>\n",
       "      <td>-0.089896</td>\n",
       "      <td>-1.034657</td>\n",
       "      <td>-0.298492</td>\n",
       "      <td>-0.573210</td>\n",
       "    </tr>\n",
       "    <tr>\n",
       "      <th>5186</th>\n",
       "      <td>-0.666067</td>\n",
       "      <td>1.943335</td>\n",
       "      <td>-1.034657</td>\n",
       "      <td>-0.298492</td>\n",
       "      <td>-0.102414</td>\n",
       "    </tr>\n",
       "    <tr>\n",
       "      <th>5187</th>\n",
       "      <td>-0.177696</td>\n",
       "      <td>-0.903188</td>\n",
       "      <td>-0.312123</td>\n",
       "      <td>-0.298492</td>\n",
       "      <td>-0.102414</td>\n",
       "    </tr>\n",
       "    <tr>\n",
       "      <th>5188</th>\n",
       "      <td>0.554862</td>\n",
       "      <td>0.181202</td>\n",
       "      <td>-1.034657</td>\n",
       "      <td>-0.298492</td>\n",
       "      <td>-0.573210</td>\n",
       "    </tr>\n",
       "    <tr>\n",
       "      <th>5189</th>\n",
       "      <td>1.531605</td>\n",
       "      <td>-0.903188</td>\n",
       "      <td>-1.034657</td>\n",
       "      <td>-0.298492</td>\n",
       "      <td>-0.573210</td>\n",
       "    </tr>\n",
       "  </tbody>\n",
       "</table>\n",
       "<p>5190 rows × 5 columns</p>\n",
       "</div>"
      ],
      "text/plain": [
       "           age    income   illness   reduced    health\n",
       "0    -1.056765 -0.089896 -0.312123  1.086862 -0.102414\n",
       "1    -1.056765 -0.360993 -0.312123  0.394185 -0.102414\n",
       "2    -1.056765  0.858945  1.132944 -0.298492 -0.573210\n",
       "3    -1.056765 -1.174285 -0.312123 -0.298492 -0.573210\n",
       "4    -1.056765 -0.360993  0.410410  1.433200 -0.102414\n",
       "...        ...       ...       ...       ...       ...\n",
       "5185 -0.910253 -0.089896 -1.034657 -0.298492 -0.573210\n",
       "5186 -0.666067  1.943335 -1.034657 -0.298492 -0.102414\n",
       "5187 -0.177696 -0.903188 -0.312123 -0.298492 -0.102414\n",
       "5188  0.554862  0.181202 -1.034657 -0.298492 -0.573210\n",
       "5189  1.531605 -0.903188 -1.034657 -0.298492 -0.573210\n",
       "\n",
       "[5190 rows x 5 columns]"
      ]
     },
     "execution_count": 3,
     "metadata": {},
     "output_type": "execute_result"
    }
   ],
   "source": [
    "# Question 1\n",
    "# Use the entire health data provided on canvas for this question.\n",
    "\n",
    "# The variables are described as follows:\n",
    "# age  =  Age in years divided by 100.\n",
    "# income = Annual income in tens of thousands of dollars.\n",
    "# illness = Number of illnesses in past 2 weeks.\n",
    "# reduced = Number of days of reduced activity in past 2 weeks due to illness or injury.\n",
    "# health = General health questionnaire score using Goldberg's method. Note that higher health scores indicate worse health condition.\n",
    "# Use the age, income, illness and reduced variables as input variables and use the health variable as an output variable. You will find the parameters or coefficients (intercept and slopes) of a regression equation that models the relationship between the input and output variables. First use the StandardScaler() in sklearn to standardize the input data before you run your algorithm or fit your model.\n",
    "\n",
    "health_data = pd.read_csv(\"Health_Data.csv\")\n",
    "health_data_col = health_data.columns\n",
    "health_data = StandardScaler().fit_transform(health_data)\n",
    "health_data = pd.DataFrame(health_data, columns=health_data_col)\n",
    "health_data\n"
   ]
  },
  {
   "cell_type": "code",
   "execution_count": 4,
   "metadata": {},
   "outputs": [
    {
     "name": "stdout",
     "output_type": "stream",
     "text": [
      "[2.7791941302375174e-17, -0.08132296210707216, -0.0496174683283661, 0.322452658653267, 0.21522187186261957]\n"
     ]
    }
   ],
   "source": [
    "beta_array = [0 for _ in health_data_col]\n",
    "\n",
    "# Initialize all the b's up to bk, where k = number of features\n",
    "a = 0.01\n",
    "# iterations = 10000\n",
    "iterations = 10000\n",
    "\n",
    "x = health_data.iloc[:, :-1].values.transpose()\n",
    "y = health_data.iloc[:, -1].values\n",
    "\n",
    "for i in range(iterations):\n",
    "    predicted_y = beta_array[0] + np.dot(beta_array[1:], x)\n",
    "    errors = y - predicted_y\n",
    "    beta_array[0] = beta_array[0] + a * (1 / len(errors)) * np.sum(errors)\n",
    "    for j in range(1, len(beta_array)):\n",
    "        beta_array[j] = beta_array[j] + a * (1 / len(errors)) * np.sum(errors * x[j - 1])\n",
    "print(beta_array)\n"
   ]
  },
  {
   "cell_type": "code",
   "execution_count": 5,
   "metadata": {},
   "outputs": [
    {
     "name": "stdout",
     "output_type": "stream",
     "text": [
      "[ 0.         -0.08132296 -0.04961747  0.32245266  0.21522187]\n"
     ]
    }
   ],
   "source": [
    "# Now, use a vectorized or matrix implementation instead of having a line of code for each x or b. That mean, you can a create a vector of b’s and a feature matrix, X where you have an additional column for x0 whose values are 1’s. x0 corresponds to b0. You can still implement it as described in the code above.\n",
    "mtx = x.copy()\n",
    "mtx = np.insert(mtx, 0, 1, axis=0)\n",
    "beta_mtx = np.array([0 for _ in range(len(mtx))])\n",
    "\n",
    "beta_zero = []\n",
    "for i in range(iterations):\n",
    "    y_pred = np.matmul(beta_mtx, mtx)\n",
    "    errors = y - y_pred\n",
    "    new_betas = np.sum(errors.T * mtx, axis=1) * (1 / len(errors)) * a\n",
    "    beta_mtx = np.array([a + b for a, b in zip(new_betas, beta_mtx)])\n",
    "    beta_zero.append(beta_mtx[0])\n",
    "print(beta_mtx)\n"
   ]
  },
  {
   "cell_type": "code",
   "execution_count": 6,
   "metadata": {},
   "outputs": [
    {
     "name": "stdout",
     "output_type": "stream",
     "text": [
      "Intercept: [-0.00547036]\n",
      "Coefficients: [-0.0678248  -0.06374904  0.33068549  0.20987145]\n"
     ]
    }
   ],
   "source": [
    "# Use the scikit-learn package to implement the stochastic gradient descent to find the parameters of the regression equation.\n",
    "sgdr_model = SGDRegressor(max_iter=iterations, tol=1e-7)\n",
    "sgdr_model.fit(x.transpose(), y)\n",
    "print(\"Intercept:\", sgdr_model.intercept_)\n",
    "print(\"Coefficients:\", sgdr_model.coef_)\n"
   ]
  },
  {
   "cell_type": "code",
   "execution_count": 7,
   "metadata": {},
   "outputs": [
    {
     "name": "stdout",
     "output_type": "stream",
     "text": [
      "                                 OLS Regression Results                                \n",
      "=======================================================================================\n",
      "Dep. Variable:                      y   R-squared (uncentered):                   0.179\n",
      "Model:                            OLS   Adj. R-squared (uncentered):              0.179\n",
      "Method:                 Least Squares   F-statistic:                              283.0\n",
      "Date:                Sun, 06 Mar 2022   Prob (F-statistic):                   2.13e-220\n",
      "Time:                        23:02:11   Log-Likelihood:                         -6851.9\n",
      "No. Observations:                5190   AIC:                                  1.371e+04\n",
      "Df Residuals:                    5186   BIC:                                  1.374e+04\n",
      "Df Model:                           4                                                  \n",
      "Covariance Type:            nonrobust                                                  \n",
      "==============================================================================\n",
      "                 coef    std err          t      P>|t|      [0.025      0.975]\n",
      "------------------------------------------------------------------------------\n",
      "x1            -0.0813      0.013     -6.121      0.000      -0.107      -0.055\n",
      "x2            -0.0496      0.013     -3.778      0.000      -0.075      -0.024\n",
      "x3             0.3225      0.013     24.445      0.000       0.297       0.348\n",
      "x4             0.2152      0.013     16.672      0.000       0.190       0.241\n",
      "==============================================================================\n",
      "Omnibus:                     2321.918   Durbin-Watson:                   1.850\n",
      "Prob(Omnibus):                  0.000   Jarque-Bera (JB):            12281.302\n",
      "Skew:                           2.126   Prob(JB):                         0.00\n",
      "Kurtosis:                       9.222   Cond. No.                         1.45\n",
      "==============================================================================\n",
      "\n",
      "Notes:\n",
      "[1] R² is computed without centering (uncentered) since the model does not contain a constant.\n",
      "[2] Standard Errors assume that the covariance matrix of the errors is correctly specified.\n"
     ]
    }
   ],
   "source": [
    "# Question 2\n",
    "# You will implement a multiple regression from a statistical perspective to explore the relationship between the input variables and the output variable. You will use the health data again.\n",
    "\n",
    "# Use the statsmodels package () to implement a multiple linear regression using the entire health data to get a more detailed regression summary.\n",
    "# Below is some pseudo code for implementation, see the documentation for details.\n",
    "# Fit and summarize OLS model\n",
    "model = sm.OLS(y, x.transpose())\n",
    "res = model.fit()\n",
    "print(res.summary())\n"
   ]
  },
  {
   "cell_type": "code",
   "execution_count": 8,
   "metadata": {},
   "outputs": [
    {
     "data": {
      "text/plain": [
       "[<matplotlib.lines.Line2D at 0x7ff1908dc220>]"
      ]
     },
     "execution_count": 8,
     "metadata": {},
     "output_type": "execute_result"
    },
    {
     "data": {
      "image/png": "[encoded data removed]",
      "text/plain": [
       "<Figure size 432x288 with 1 Axes>"
      ]
     },
     "metadata": {},
     "output_type": "display_data"
    }
   ],
   "source": [
    "# Extract the residuals of the model and test the assumptions normality and homogeneity of variance for the regression model. Are the assumptions met? Use reg.resid syntax to extract the residuals.\n",
    "residuals = res.resid\n",
    "plt.plot(residuals)\n"
   ]
  },
  {
   "cell_type": "code",
   "execution_count": 9,
   "metadata": {},
   "outputs": [
    {
     "data": {
      "image/png": "[encoded data removed]",
      "text/plain": [
       "<Figure size 432x288 with 1 Axes>"
      ]
     },
     "metadata": {},
     "output_type": "display_data"
    }
   ],
   "source": [
    "# To further verify the normality assumption, create a histogram for the residuals. Does the histogram look like a normal distribution?\n",
    "plt.hist(residuals)\n",
    "plt.show()\n"
   ]
  },
  {
   "cell_type": "markdown",
   "metadata": {},
   "source": []
  },
  {
   "cell_type": "code",
   "execution_count": 10,
   "metadata": {},
   "outputs": [
    {
     "data": {
      "image/png": "[encoded data removed]",
      "text/plain": [
       "<Figure size 864x576 with 4 Axes>"
      ]
     },
     "metadata": {},
     "output_type": "display_data"
    }
   ],
   "source": [
    "# Test the linearity assumption by creating separate scatter plots for each input variable versus output variable.\n",
    "# According to your plots, are the linearity assumptions met?\n",
    "fig, ax = plt.subplots(2, 2, figsize=(12, 8))\n",
    "for i, col in enumerate(health_data.columns[:-1]):\n",
    "    ax.ravel()[i].scatter(health_data[col], health_data[\"health\"])\n",
    "    ax.ravel()[i].set_title(f\"{col} vs health\")\n",
    "plt.show()\n"
   ]
  },
  {
   "cell_type": "code",
   "execution_count": 11,
   "metadata": {},
   "outputs": [
    {
     "data": {
      "text/plain": [
       "<matplotlib.collections.PathCollection at 0x7ff181c0c790>"
      ]
     },
     "execution_count": 11,
     "metadata": {},
     "output_type": "execute_result"
    },
    {
     "data": {
      "image/png": "[encoded data removed]",
      "text/plain": [
       "<Figure size 432x288 with 1 Axes>"
      ]
     },
     "metadata": {},
     "output_type": "display_data"
    }
   ],
   "source": [
    "# Extract the predicted output values from the model, then create a scatter plot of the predicted output versus actual output (from the data provided). This plot is also used to evaluate the accuracy of the model. According to the plot, is your model good for predicting health scores? Use the reg.predict() method to extract the predicted values.\n",
    "reg_predictions = res.predict(x.transpose())\n",
    "plt.scatter(health_data[\"health\"], reg_predictions)\n"
   ]
  },
  {
   "cell_type": "code",
   "execution_count": 12,
   "metadata": {},
   "outputs": [
    {
     "data": {
      "text/html": [
       "<div>\n",
       "<style scoped>\n",
       "    .dataframe tbody tr th:only-of-type {\n",
       "        vertical-align: middle;\n",
       "    }\n",
       "\n",
       "    .dataframe tbody tr th {\n",
       "        vertical-align: top;\n",
       "    }\n",
       "\n",
       "    .dataframe thead th {\n",
       "        text-align: right;\n",
       "    }\n",
       "</style>\n",
       "<table border=\"1\" class=\"dataframe\">\n",
       "  <thead>\n",
       "    <tr style=\"text-align: right;\">\n",
       "      <th></th>\n",
       "      <th>age</th>\n",
       "      <th>income</th>\n",
       "      <th>illness</th>\n",
       "      <th>reduced</th>\n",
       "      <th>health</th>\n",
       "    </tr>\n",
       "  </thead>\n",
       "  <tbody>\n",
       "    <tr>\n",
       "      <th>age</th>\n",
       "      <td>1.000193</td>\n",
       "      <td>-0.271126</td>\n",
       "      <td>0.205023</td>\n",
       "      <td>0.094763</td>\n",
       "      <td>0.018619</td>\n",
       "    </tr>\n",
       "    <tr>\n",
       "      <th>income</th>\n",
       "      <td>-0.271126</td>\n",
       "      <td>1.000193</td>\n",
       "      <td>-0.148840</td>\n",
       "      <td>-0.047554</td>\n",
       "      <td>-0.085807</td>\n",
       "    </tr>\n",
       "    <tr>\n",
       "      <th>illness</th>\n",
       "      <td>0.205023</td>\n",
       "      <td>-0.148840</td>\n",
       "      <td>1.000193</td>\n",
       "      <td>0.218158</td>\n",
       "      <td>0.360179</td>\n",
       "    </tr>\n",
       "    <tr>\n",
       "      <th>reduced</th>\n",
       "      <td>0.094763</td>\n",
       "      <td>-0.047554</td>\n",
       "      <td>0.218158</td>\n",
       "      <td>1.000193</td>\n",
       "      <td>0.280262</td>\n",
       "    </tr>\n",
       "    <tr>\n",
       "      <th>health</th>\n",
       "      <td>0.018619</td>\n",
       "      <td>-0.085807</td>\n",
       "      <td>0.360179</td>\n",
       "      <td>0.280262</td>\n",
       "      <td>1.000193</td>\n",
       "    </tr>\n",
       "  </tbody>\n",
       "</table>\n",
       "</div>"
      ],
      "text/plain": [
       "              age    income   illness   reduced    health\n",
       "age      1.000193 -0.271126  0.205023  0.094763  0.018619\n",
       "income  -0.271126  1.000193 -0.148840 -0.047554 -0.085807\n",
       "illness  0.205023 -0.148840  1.000193  0.218158  0.360179\n",
       "reduced  0.094763 -0.047554  0.218158  1.000193  0.280262\n",
       "health   0.018619 -0.085807  0.360179  0.280262  1.000193"
      ]
     },
     "metadata": {},
     "output_type": "display_data"
    },
    {
     "data": {
      "text/plain": [
       "<AxesSubplot:>"
      ]
     },
     "execution_count": 12,
     "metadata": {},
     "output_type": "execute_result"
    },
    {
     "data": {
      "image/png": "[encoded data removed]",
      "text/plain": [
       "<Figure size 432x288 with 2 Axes>"
      ]
     },
     "metadata": {},
     "output_type": "display_data"
    }
   ],
   "source": [
    "# Check for multi-collinearity by generating a covariance matrix for the input data . You can use the .cov() method of pandas (). Do you think there is multicollinearity among the input variables?\n",
    "display(health_data.cov())\n",
    "sns.heatmap(health_data.cov())\n"
   ]
  },
  {
   "cell_type": "code",
   "execution_count": 13,
   "metadata": {},
   "outputs": [
    {
     "name": "stdout",
     "output_type": "stream",
     "text": [
      "Training MSE: 714.2766892826355\n",
      "Testing MSE: 761.8831910334574\n"
     ]
    }
   ],
   "source": [
    "# Question 3:\n",
    "#  Clean the data as you find necessary, standardize the data and split it into training and test data using an appropriate split ratio.\n",
    "cigarette_data = pd.read_csv(\"https://vincentarelbundock.github.io/Rdatasets/csv/plm/Cigar.csv\", index_col=0)\n",
    "cigarette_data.drop(columns=[\"state\", \"year\"], inplace=True)\n",
    "\n",
    "X_train, X_test, y_train, y_test = train_test_split(\n",
    "    cigarette_data.drop(columns=[\"sales\"]), cigarette_data[\"sales\"], test_size=0.2, random_state=42\n",
    ")\n",
    "\n",
    "# Construct a linear regression model using ordinary least squares method by applying the LinearRegression() constructor in sklearn and find the training and test accuracy of this model using mean square error (mse).\n",
    "lr_model = Pipeline([(\"scaler\", StandardScaler()), (\"reg\", LinearRegression())])\n",
    "lr_model.fit(X_train, y_train)\n",
    "print(\"Training MSE:\", metrics.mean_squared_error(y_train, lr_model.predict(X_train)))\n",
    "print(\"Testing MSE:\", metrics.mean_squared_error(y_test, lr_model.predict(X_test)))\n"
   ]
  },
  {
   "cell_type": "code",
   "execution_count": 14,
   "metadata": {},
   "outputs": [
    {
     "name": "stdout",
     "output_type": "stream",
     "text": [
      "Lasso\n",
      "Training MSE: 770.7736832371704\n",
      "Testing MSE: 839.6807014786626\n",
      "-----------\n",
      "Ridge\n",
      "Training MSE: 714.5831836887485\n",
      "Testing MSE: 763.5358159469065\n",
      "-----------\n"
     ]
    }
   ],
   "source": [
    "# Fit a lasso regression on the data and check the training and test accuracy of the model using mse. Use the default alpha or penalty constant.\n",
    "\n",
    "# Fit a ridge regression on the data and check the training and test accuracy of the model. Use the default alpha or penalty constant.\n",
    "for model in [Lasso(), Ridge()]:\n",
    "    print(model.__class__.__name__)\n",
    "    model = Pipeline([(\"scaler\", StandardScaler()), (\"reg\", model)])\n",
    "    model.fit(X_train, y_train)\n",
    "    print(\"Training MSE:\", metrics.mean_squared_error(y_train, model.predict(X_train)))\n",
    "    print(\"Testing MSE:\", metrics.mean_squared_error(y_test, model.predict(X_test)))\n",
    "    print(\"-----------\")\n"
   ]
  },
  {
   "cell_type": "code",
   "execution_count": 16,
   "metadata": {},
   "outputs": [
    {
     "name": "stdout",
     "output_type": "stream",
     "text": [
      "Lasso\n",
      "Best alpha value: 0.046415888336127774\n",
      "Training MSE: 715.0396992232547\n",
      "Testing MSE: 764.08340054989\n",
      "-----------\n",
      "Ridge\n",
      "Best alpha value: 1.0\n",
      "Training MSE: 714.5831836887485\n",
      "Testing MSE: 763.5358159469065\n",
      "-----------\n"
     ]
    }
   ],
   "source": [
    "# Tune the alpha hyperparameters of the lasso and ridge regression using any tuning technique of your choice? What is the best alpha value for the lasso regression and what is the best alpha value for the ridge regression\n",
    "alpha = np.logspace(-3, 0, 10)\n",
    "lasso = Pipeline([(\"scaler\", StandardScaler()), (\"reg\", Lasso(alpha=alpha))])\n",
    "ridge = Pipeline([(\"scaler\", StandardScaler()), (\"reg\", Ridge(alpha=alpha))])\n",
    "\n",
    "for model in [lasso, ridge]:\n",
    "    model = GridSearchCV(model, {\"reg__alpha\": alpha}, cv=15)\n",
    "    print(model.estimator.steps[1][1].__class__.__name__)\n",
    "    model.fit(X_train, y_train)\n",
    "    print(\"Best alpha value:\", model.best_params_[\"reg__alpha\"])\n",
    "    print(\"Training MSE:\", metrics.mean_squared_error(y_train, model.predict(X_train)))\n",
    "    print(\"Testing MSE:\", metrics.mean_squared_error(y_test, model.predict(X_test)))\n",
    "    print(\"-----------\")\n"
   ]
  },
  {
   "cell_type": "code",
   "execution_count": null,
   "metadata": {},
   "outputs": [],
   "source": []
  }
 ],
 "metadata": {
  "interpreter": {
   "hash": "bd88c1f76f7356ca69ef3da9f14355d0cc834d294444a1e290947aef5ce186b6"
  },
  "kernelspec": {
   "display_name": "Python 3",
   "language": "python",
   "name": "python3"
  },
  "language_info": {
   "codemirror_mode": {
    "name": "ipython",
    "version": 3
   },
   "file_extension": ".py",
   "mimetype": "text/x-python",
   "name": "python",
   "nbconvert_exporter": "python",
   "pygments_lexer": "ipython3",
   "version": "3.8.3"
  }
 },
 "nbformat": 4,
 "nbformat_minor": 4
}
