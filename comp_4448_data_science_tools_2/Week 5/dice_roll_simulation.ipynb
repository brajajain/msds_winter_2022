{
 "cells": [
  {
   "cell_type": "code",
   "execution_count": 1,
   "metadata": {},
   "outputs": [],
   "source": [
    "import numpy as np"
   ]
  },
  {
   "cell_type": "code",
   "execution_count": 2,
   "metadata": {},
   "outputs": [],
   "source": [
    "dice_A = [9, 9, 9, 9, 2, 2]\n",
    "dice_B = [3, 3, 3, 3, 11, 11]"
   ]
  },
  {
   "cell_type": "code",
   "execution_count": 3,
   "metadata": {},
   "outputs": [],
   "source": [
    "# roll dice_A and dice_B 1000 times and determine which dice gives the highest average\n",
    "NUM_ROLLS = 100000\n",
    "\n",
    "rolls = []\n",
    "for _ in range(NUM_ROLLS):\n",
    "    a_wins = True\n",
    "    A = np.random.choice(dice_A)\n",
    "    B = np.random.choice(dice_B)\n",
    "    if B > A:\n",
    "        a_wins = False\n",
    "    rolls.append((a_wins))\n",
    "\n",
    "A_wins = sum(rolls)/NUM_ROLLS\n",
    "B_wins = 1 - A_wins\n",
    "\n",
    "print(\"A wins:\", A_wins)\n",
    "print(\"B wins:\", B_wins)"
   ]
  },
  {
   "cell_type": "markdown",
   "metadata": {},
   "source": [
    "- 1/3 dice A rolls 2 which always wins \n",
    "- 2/3 rolls 9, which wins 2/3 of the time when rolled. So prob A wins is 4/9"
   ]
  },
  {
   "cell_type": "markdown",
   "metadata": {},
   "source": []
  }
 ],
 "metadata": {
  "interpreter": {
   "hash": "aee8b7b246df8f9039afb4144a1f6fd8d2ca17a180786b69acc140d282b71a49"
  },
  "kernelspec": {
   "display_name": "Python 3.9.7 64-bit",
   "language": "python",
   "name": "python3"
  },
  "language_info": {
   "codemirror_mode": {
    "name": "ipython",
    "version": 3
   },
   "file_extension": ".py",
   "mimetype": "text/x-python",
   "name": "python",
   "nbconvert_exporter": "python",
   "pygments_lexer": "ipython3",
   "version": "3.9.7"
  },
  "orig_nbformat": 4
 },
 "nbformat": 4,
 "nbformat_minor": 2
}
