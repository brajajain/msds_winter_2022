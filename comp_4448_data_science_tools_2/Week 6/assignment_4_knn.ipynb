{
 "cells": [
  {
   "cell_type": "markdown",
   "metadata": {},
   "source": [
    "# Assignment 4\n",
    "## Raja Jain | 2022-02-21"
   ]
  },
  {
   "cell_type": "code",
   "execution_count": 1,
   "metadata": {},
   "outputs": [],
   "source": [
    "from pprint import pprint as pp\n",
    "\n",
    "import docx\n",
    "import numpy as np\n",
    "import pandas as pd\n",
    "from matplotlib import pyplot as plt\n",
    "import sweetviz as sv\n",
    "from sklearn import metrics\n",
    "from sklearn.ensemble import RandomForestClassifier, RandomForestRegressor\n",
    "from sklearn.model_selection import GridSearchCV, train_test_split\n",
    "from sklearn.neighbors import KNeighborsClassifier, KNeighborsRegressor\n",
    "from sklearn.pipeline import Pipeline\n",
    "from sklearn.preprocessing import StandardScaler\n",
    "\n",
    "\n",
    "def getText(filename):\n",
    "    doc = docx.Document(filename)\n",
    "    fullText = []\n",
    "    for para in doc.paragraphs:\n",
    "        fullText.append(para.text)\n",
    "    return \"\\n\".join(fullText)"
   ]
  },
  {
   "cell_type": "code",
   "execution_count": 2,
   "metadata": {},
   "outputs": [
    {
     "name": "stdout",
     "output_type": "stream",
     "text": [
      "COMP 4448: Data Science Tools II\t\t\t\t\t\t          Assignment 4\n",
      "Directions: Do this assignment in Jupyter Notebook and provide screenshots of code and output in this word document wherever required. You will upload this word document containing screenshots of code and answers as well as your Jupyter Notebook to Canvas. All assignments will be submitted and graded through canvas and grades will be transferred to the 2U platform. \n",
      "Goal: The goal of this assignment is to give you the opportunity to implement K-NN from scratch as well as using tools built into sklearn. You would also compare your algorithms with other algorithms. \n",
      "Packages: Core packages you may need for this assignment include numpy, pandas, sklearn, matplotlib.pyplot and/or seaborn.  \n",
      "\n",
      "\n",
      "Question 1\n",
      "Read the data provided on canvas into Python as follows: \n",
      "\n",
      "Print the first 5 rows of each dataset to inspect the nature of data\n",
      "\n",
      "\n",
      "Split the data into training and test set as follows:\n",
      "Print the shape of input and output data for the training and test sets \n",
      "\n",
      "\n",
      "\n",
      "\n",
      "\n",
      "You would use the delivery data for regression: that is, miles (“Miles”) and number of deliveries (“Deliveries”) would be use an input to predict the total time it takes for a delivery truck to deliver Amazon packages. You would write a k-nearest neighbor algorithm function that learns from the training set and predicts the output or y values of given test instances. The input that the function takes include:\n",
      "X_train: Pandas DataFrame or 2D NumPy array \n",
      " y_train: Pandas Series or 1D NumPy array \n",
      "X_test: Pandas DataFrame or 2D NumPy array\n",
      "K: the number of nearest neighbors. The default value should be k=5 if no k value is passed during function call. \n",
      "Use the following pseudo code to implement the algorithm (also see class notes on ideas for writing knn from scratch to see the details of each step in the body of the code). Here is the pseudo code:\n",
      "\n",
      "Call the knn_predict() function and pass the X_delivery_train, y_delivery_train and X_delivery_test to compute the predicted output values for the X_delivery_test set. You can reference the results using a variable, y_delivery_test_pred. \n",
      "Write a function that computes the mean squared error to measure the performance accuracy of your knn algorithm. The input that goes into the function is the actual output values(y) and the predicted output values (y_pred). The mean squared error (mse) is calculated as follows:\n",
      "mse =  where n = length of y or length of y_pred\n",
      "You can name the function mse. Then call the function to compute the mse for the test set for the delivery data. That is, use mse(y_delivery_test, y_delivery_test_pred). \n",
      "\n",
      "\n",
      "Does your algorithm overfit the data? To answer this question, you need to compute the accuracy or mse of the algorithm on the training set, and compare with the accuracy or mse you got for the test set. You will need to start with making predictions for the training set. Note that you will need to pass the training set into the X_test parameter of the knn_predict() function, in addition to the other arguments of the function. When you get the predicted values for the training set, use the mse() function to get the training mse. \n",
      "\n",
      "The algorithm slightly overfits the data as the mse on the training set is slightly lower than the mse on the testing set.\n",
      "\n",
      "\n",
      "\n",
      "\n",
      "Now, tune the hyperparameter, k, of your algorithm. Specify a grid of hyperparameter values from k=1 to k=50. Use a for-loop, then inside the for-loop body, use the knn_predict() function as well as the mse() function to compute the mse values for the training set and test set for different values of k in the hyperparameter grid. Plot the training and test error rates of the model versus the grid of hyperparameter values. \n",
      "\n",
      "\n",
      "\n",
      "Now, construct and fit a k-nearest neighbor model using the  KNeighborsRegressor() estimator in sklearn.neighbors module. Use the mean_square_error() function inside the sklearn.metrics module to compute the mse of the model on the test set. Is this similar to the mse value you got from the algorithm function you wrote from scratch? \n",
      "\n",
      "No, the MSE from the scratch algorithm is higher than the MSE from the regressor model. \n",
      "\n",
      "\t\n",
      "\n",
      "\n",
      "\n",
      "Using the Pipeline constructor inside the sklearn.pipeline module, scale the X_delivery_train with the StandardScaler(), and also construct the KNeighborsRegressor() inside the Pipeline(). Then the call the fit() method on the pipeline object to fit the model into the delivery training data. Transform the X_delivery_test data using StandardScaler() and use the mean_squared_error () function inside the sklearn.metrics module to compute the mse of the model on the test set. Is this mse similar to the mse you got when you used the unscaled input data in (g) above?\n",
      "No, the MSE from the scaled data is lower than the MSE from the unscaled data. \n",
      "\n",
      "\n",
      "\n",
      "Use the scaled X_delivery_train and X_delivery_test data and the RandomForestRegressor constructor inside the sklearn.ensemble module to construct/fit a random forest model, the compute the mse for this model. Is this mse similar to the one you got in question (h) above? \n",
      "\n",
      "\n",
      "\n",
      "Question 2\n",
      "You would use the student data for classification: that is, GPA and Age would be used as input to predict wither a student will drop out of school (Dropped=1) or not drop (Dropped=0). You will write a k-nearest neighbor algorithm function that learns from the training set and classifies given test instances to class 0 or class 1. The input that the function takes include:\n",
      "X_train: Pandas DataFrame or 2D NumPy array \n",
      " y_train: Pandas Series or 1D NumPy array \n",
      "X_test: Pandas DataFrame or 2D NumPy array\n",
      "K: the number of nearest neighbors. The default value should be k=5 if no k value is passed during function call. \n",
      "Use the following pseudo code to implement the algorithm (also see class notes on ideas for writing knn from scratch to see the details of each step in the body of the code). Here is the pseudo code:\n",
      "\n",
      "\n",
      "\n",
      "Scale the X_student_train and X_student_test data, and pass these scaled data sets in addition to y_student_train data into the knn_predict() function call to compute the predicted output values for the X_student_test set. You can reference the results using a variable, y_student_test_pred. \n",
      "b) Define a function called overall_accuracy, that computes the overall accuracy of your algorithm. You can let your function compare the actual values (y) and the predicted or classified y values (y_pred), for example: overall accuracy could be computed using mean(y==y_pred)\n",
      " \n",
      "\n",
      "c) Use GridSearch in scikit learn to tune the parameter of the k-nearest neighbor classifier, then use that optimal parameter to compute the accuracy of the knn estimator on the test set. Is this accuracy score similar to that obtained using your knn algorithm from scratch?\n",
      "The accuracies of the two models match when the n_neighbors value matches.\n",
      "\n",
      "d) Also build another model using a random forest classifier and compute the accuracy score on the test set. Which of these models is the better, the model is question 2c or this model in question 2d? Why or why not?\n",
      "\n",
      "The KNN model from 2c is better. This is because the KNN model can work with extremely complex decision boundaries whereas the random forest classifier is much better regularized as it relies on an ensemble of decision trees.\n",
      "\n",
      "\n",
      "\n",
      "\n",
      "Question 3: Your own mini project \n",
      "Find your own dataset suitable for classification or regression with at least three input variables and 200 or more cases: Depending on the target variable of interest, you would build a k-nearest neighbor classifier or regressor using the appropriate sklearn estimator. Find some interesting unique dataset that is not popularly used in the internet. \n",
      "Address the following and include code/output snippets from b) to f). Include the response under each sub question. \n",
      "State your research question \n",
      "Data pre-processing (to the extent deemed necessary: remember the knn algorithm depends on distances, so you need to rescale, normalize or standardize your input values to make sure no variable influences the predictions due to it scale). \n",
      "Data splitting \n",
      "Model construction \n",
      "Hyperparameter turning (choose whatever approach your like)\n",
      "Use the best or optimal parameter values to build a model, then compute the accuracy score for your estimator. \n",
      "Discuss about overfitting for the model \n"
     ]
    }
   ],
   "source": [
    "text = getText(\"Assignment 4 - KNN.docx\")\n",
    "print(text)"
   ]
  },
  {
   "cell_type": "code",
   "execution_count": 3,
   "metadata": {},
   "outputs": [
    {
     "name": "stdout",
     "output_type": "stream",
     "text": [
      "   Miles  Deliveries  Time\n",
      "0    100           4   9.3\n",
      "1     50           3   4.8\n",
      "2    100           4   8.9\n",
      "3    100           2   6.5\n",
      "4     50           2   4.2\n",
      "   Miles  Deliveries  Time\n",
      "0     50           3   4.6\n",
      "1     65           2   5.5\n",
      "2     80           1   6.3\n",
      "3     70           1   6.2\n",
      "4     70           5   8.5\n",
      "    GPA  Age  Dropped\n",
      "0  3.78   21        0\n",
      "1  2.38   27        0\n",
      "2  3.05   21        1\n",
      "3  2.19   28        1\n",
      "4  3.22   23        0\n",
      "    GPA  Age  Dropped\n",
      "0  2.49   26        1\n",
      "1  2.67   29        0\n",
      "2  2.86   29        1\n",
      "3  2.21   26        0\n",
      "4  2.91   20        1\n"
     ]
    }
   ],
   "source": [
    "# Question 1\n",
    "# Read the data provided on canvas into Python as follows:\n",
    "delivery_train = pd.read_csv(\"delivery_time_train_data.csv\")\n",
    "delivery_test = pd.read_csv(\"delivery_time_test_data.csv\")\n",
    "student_train = pd.read_csv(\"student_train_data.csv\")\n",
    "student_test = pd.read_csv(\"student_test_data.csv\")\n",
    "\n",
    "# Print the first 5 rows of each dataset to inspect the nature of data\n",
    "for data in [delivery_train, delivery_test, student_train, student_test]:\n",
    "    print(data.head())"
   ]
  },
  {
   "cell_type": "code",
   "execution_count": 4,
   "metadata": {},
   "outputs": [
    {
     "name": "stdout",
     "output_type": "stream",
     "text": [
      "(199, 2)\n",
      "(199, 1)\n",
      "(101, 2)\n",
      "(101, 1)\n",
      "(400, 2)\n",
      "(400, 1)\n",
      "(100, 2)\n",
      "(100, 1)\n"
     ]
    }
   ],
   "source": [
    "# Split the data into training and test set:\n",
    "# Print the shape of input and output data for the training and test sets\n",
    "X_delivery_train = delivery_train[[\"Miles\", \"Deliveries\"]]\n",
    "y_delivery_train = delivery_train[[\"Time\"]]\n",
    "\n",
    "X_delivery_test = delivery_test[[\"Miles\", \"Deliveries\"]]\n",
    "y_delivery_test = delivery_test[[\"Time\"]]\n",
    "\n",
    "X_student_train = student_train[[\"GPA\", \"Age\"]]\n",
    "y_student_train = student_train[[\"Dropped\"]]\n",
    "\n",
    "X_student_test = student_test[[\"GPA\", \"Age\"]]\n",
    "y_student_test = student_test[[\"Dropped\"]]\n",
    "\n",
    "for data in [\n",
    "    X_delivery_train,\n",
    "    y_delivery_train,\n",
    "    X_delivery_test,\n",
    "    y_delivery_test,\n",
    "    X_student_train,\n",
    "    y_student_train,\n",
    "    X_student_test,\n",
    "    y_student_test,\n",
    "]:\n",
    "    print(data.shape)"
   ]
  },
  {
   "cell_type": "code",
   "execution_count": 5,
   "metadata": {},
   "outputs": [
    {
     "data": {
      "text/plain": [
       "6.836912185079895"
      ]
     },
     "execution_count": 5,
     "metadata": {},
     "output_type": "execute_result"
    }
   ],
   "source": [
    "# You would use the delivery data for regression: that is, miles (“Miles”) and number of deliveries (“Deliveries”) would be use an input to predict the total time it takes for a delivery truck to deliver Amazon packages. You would write a k-nearest neighbor algorithm function that learns from the training set and predicts the output or y values of given test instances. The input that the function takes include:\n",
    "# X_train: Pandas DataFrame or 2D NumPy array\n",
    "#  y_train: Pandas Series or 1D NumPy array\n",
    "# X_test: Pandas DataFrame or 2D NumPy array\n",
    "# K: the number of nearest neighbors. The default value should be k=5 if no k value is passed during function call.\n",
    "# Use the following pseudo code to implement the algorithm (also see class notes on ideas for writing knn from scratch to see the details of each step in the body of the code). Here is the pseudo code:\n",
    "\n",
    "\n",
    "def knn_predict(X_train, y_train, X_test, k=5):\n",
    "    y_pred = []\n",
    "    for i in range(len(X_test)):\n",
    "        # grab a test instance from the X_test data\n",
    "        test_instance = np.array([X_test.iloc[i]])\n",
    "        # find distances betweent the test instance and all the training instances\n",
    "        d = metrics.euclidean_distances(X_train, test_instance)\n",
    "        # stack the distances between the y_train to get a matrix\n",
    "        stacked = np.stack((y_train.Time.values, d.flatten()), axis=1)\n",
    "        # sort the matrix by the distance column\n",
    "        sorted_stack = stacked[np.argsort(stacked[:, -1])]\n",
    "        # pick k number of y train values\n",
    "        ## where k is much less than the length of the training set\n",
    "        y_train_nearest_k = sorted_stack[:k, 0]\n",
    "        # make a prediction for the test instance\n",
    "        prediction = y_train_nearest_k.mean()\n",
    "        # append the predicted value to the y_pred variable\n",
    "        y_pred.append(prediction)\n",
    "\n",
    "    # return the list of y_pred corresponding to the test instances in the test set\n",
    "    return y_pred\n",
    "\n",
    "\n",
    "# Call the knn_predict() function and pass the X_delivery_train, y_delivery_train and X_delivery_test to compute the predicted output values for the X_delivery_test set. You can reference the results using a variable, y_delivery_test_pred.\n",
    "y_delivery_test_pred = knn_predict(X_delivery_train, y_delivery_train, X_delivery_test)\n",
    "\n",
    "# Write a function that computes the mean squared error to measure the performance accuracy of your knn algorithm. The input that goes into the function is the actual output values(y) and the predicted output values (y_pred). The mean squared error (mse) is calculated as follows:\n",
    "def mse(y, y_pred):\n",
    "    return np.mean((y - y_pred) ** 2)\n",
    "\n",
    "\n",
    "# You can name the function mse. Then call the function to compute the mse for the test set for the delivery data. That is, use mse(y_delivery_test, y_delivery_test_pred).\n",
    "mse(y_delivery_test.values, y_delivery_test_pred)"
   ]
  },
  {
   "cell_type": "code",
   "execution_count": 6,
   "metadata": {},
   "outputs": [
    {
     "data": {
      "text/plain": [
       "6.009555687987676"
      ]
     },
     "execution_count": 6,
     "metadata": {},
     "output_type": "execute_result"
    }
   ],
   "source": [
    "# Does your algorithm overfit the data? To answer this question, you need to compute the accuracy or mse of the algorithm on the training set, and compare with the accuracy or mse you got for the test set. You will need to start with making predictions for the training set. Note that you will need to pass the training set into the X_test parameter of the knn_predict() function, in addition to the other arguments of the function. When you get the predicted values for the training set, use the mse() function to get the training mse.\n",
    "y_delivery_train_pred = knn_predict(\n",
    "    X_delivery_train, y_delivery_train, X_delivery_train\n",
    ")\n",
    "mse(y_delivery_train.values, y_delivery_train_pred)"
   ]
  },
  {
   "cell_type": "code",
   "execution_count": 7,
   "metadata": {},
   "outputs": [
    {
     "data": {
      "image/png": "[encoded data removed]",
      "text/plain": [
       "<Figure size 720x360 with 1 Axes>"
      ]
     },
     "metadata": {},
     "output_type": "display_data"
    }
   ],
   "source": [
    "# Now, tune the hyperparameter, k, of your algorithm. Specify a grid of hyperparameter values from k=1 to k=50. Use a for-loop, then inside the for-loop body, use the knn_predict() function as well as the mse() function to compute the mse values for the training set and test set for different values of k in the hyperparameter grid. Plot the training and test error rates of the model versus the grid of hyperparameter values.\n",
    "# Paste a screenshot of your code and output here\n",
    "k_values = range(1, 50)\n",
    "mse_test = []\n",
    "mse_train = []\n",
    "\n",
    "for k in k_values:\n",
    "    y_test_pred = knn_predict(X_delivery_train, y_delivery_train, X_delivery_test, k)\n",
    "    mse_test.append(mse(y_delivery_test.values, y_test_pred))\n",
    "\n",
    "    y_train_pred = knn_predict(X_delivery_train, y_delivery_train, X_delivery_train, k)\n",
    "    mse_train.append(mse(y_delivery_train.values, y_train_pred))\n",
    "\n",
    "plt.figure(figsize=(10, 5))\n",
    "plt.title(\"MSE vs K\")\n",
    "plt.xlabel(\"K\")\n",
    "plt.ylabel(\"MSE\")\n",
    "plt.plot(mse_train, label=\"Training MSE\")\n",
    "plt.plot(mse_test, label=\"Test MSE\")\n",
    "plt.legend()\n",
    "plt.show()"
   ]
  },
  {
   "cell_type": "code",
   "execution_count": 8,
   "metadata": {},
   "outputs": [
    {
     "data": {
      "text/plain": [
       "[<matplotlib.lines.Line2D at 0x7fa5b89162e0>]"
      ]
     },
     "execution_count": 8,
     "metadata": {},
     "output_type": "execute_result"
    },
    {
     "data": {
      "image/png": "[encoded data removed]",
      "text/plain": [
       "<Figure size 432x288 with 1 Axes>"
      ]
     },
     "metadata": {},
     "output_type": "display_data"
    }
   ],
   "source": [
    "# Now, construct and fit a k-nearest neighbor model using the  KNeighborsRegressor() estimator in sklearn.neighbors module. Use the mean_square_error() function inside the sklearn.metrics module to compute the mse of the model on the test set.\n",
    "model_mse = []\n",
    "for k in k_values:\n",
    "    reg = KNeighborsRegressor(n_neighbors=k)\n",
    "    reg.fit(X_delivery_train, y_delivery_train)\n",
    "    model_mse.append(\n",
    "        metrics.mean_squared_error(y_delivery_test.values, reg.predict(X_delivery_test))\n",
    "    )\n",
    "\n",
    "plt.plot(model_mse, label=\"Model MSE\")"
   ]
  },
  {
   "cell_type": "code",
   "execution_count": 9,
   "metadata": {},
   "outputs": [
    {
     "name": "stdout",
     "output_type": "stream",
     "text": [
      "K vs. MSE for values of K with lowest MSE\n",
      "[(6, 0.8323681551828654), (8, 0.8341559711526709), (12, 0.834826879137618), (14, 0.8396712871287126), (15, 0.844426051980198)]\n"
     ]
    },
    {
     "data": {
      "image/png": "[encoded data removed]",
      "text/plain": [
       "<Figure size 432x288 with 1 Axes>"
      ]
     },
     "metadata": {},
     "output_type": "display_data"
    }
   ],
   "source": [
    "# Using the Pipeline constructor inside the sklearn.pipeline module, scale the X_delivery_train with the StandardScaler(), and also construct the KNeighborsRegressor() inside the Pipeline(). Then the call the fit() method on the pipeline object to fit the model into the delivery training data. Transform the X_delivery_test data using StandardScaler() and use the mean_squared_error () function inside the sklearn.metrics module to compute the mse of the model on the test set. Is this mse similar to the mse you got when you used the unscaled input data in (g) above?\n",
    "\n",
    "model_mse = []\n",
    "for k in k_values:\n",
    "    pipeline = Pipeline(\n",
    "        [(\"scaler\", StandardScaler()), (\"knn\", KNeighborsRegressor(n_neighbors=k))]\n",
    "    )\n",
    "\n",
    "    pipeline.fit(X_delivery_train, y_delivery_train.values.ravel())\n",
    "    model_mse.append(\n",
    "        metrics.mean_squared_error(\n",
    "            y_delivery_test.values, pipeline.predict(X_delivery_test)\n",
    "        )\n",
    "    )\n",
    "\n",
    "plt.plot(model_mse, label=\"Model MSE\")\n",
    "\n",
    "print(f\"K vs. MSE for values of K with lowest MSE\")\n",
    "print(sorted(list(enumerate(model_mse)), key=lambda x: x[1])[:5])"
   ]
  },
  {
   "cell_type": "code",
   "execution_count": 10,
   "metadata": {},
   "outputs": [
    {
     "data": {
      "text/plain": [
       "0.973377963236261"
      ]
     },
     "execution_count": 10,
     "metadata": {},
     "output_type": "execute_result"
    }
   ],
   "source": [
    "# Use the scaled X_delivery_train and X_delivery_test data and the RandomForestRegressor constructor inside the sklearn.ensemble module to construct/fit a random forest model, the compute the mse for this model. Is this mse similar to the one you got in question (h) above?\n",
    "# Paste a screenshot of your code and output here\n",
    "random_forest_pipeline = Pipeline(\n",
    "    [(\"scaler\", StandardScaler()), (\"rf\", RandomForestRegressor())]\n",
    ")\n",
    "random_forest_pipeline.fit(X_delivery_train, y_delivery_train.values.ravel())\n",
    "metrics.mean_squared_error(\n",
    "    y_delivery_test.values, random_forest_pipeline.predict(X_delivery_test)\n",
    ")"
   ]
  },
  {
   "cell_type": "code",
   "execution_count": 11,
   "metadata": {},
   "outputs": [
    {
     "name": "stdout",
     "output_type": "stream",
     "text": [
      "[0, 0, 0, 0, 0, 1, 0, 0, 0, 0, 0, 0, 0, 0, 0, 0, 0, 0, 0, 0, 0, 0, 0, 0, 0, 0, 0, 0, 0, 0, 0, 0, 0, 0, 0, 0, 0, 0, 0, 0, 0, 1, 0, 0, 0, 0, 0, 0, 0, 0, 0, 0, 0, 0, 0, 0, 0, 1, 0, 0, 0, 0, 1, 0, 0, 0, 0, 0, 0, 0, 0, 0, 0, 0, 0, 0, 0, 0, 0, 0, 0, 0, 0, 0, 0, 0, 0, 0, 0, 0, 0, 0, 0, 0, 0, 0, 0, 0, 0, 0]\n"
     ]
    }
   ],
   "source": [
    "# Question 2\n",
    "# You would use the student data for classification: that is, GPA and Age would be used as input to predict wither a student will drop out of school (Dropped=1) or not drop (Dropped=0). You will write a k-nearest neighbor algorithm function that learns from the training set and classifies given test instances to class 0 or class 1. The input that the function takes include:\n",
    "# X_train: Pandas DataFrame or 2D NumPy array\n",
    "#  y_train: Pandas Series or 1D NumPy array\n",
    "# X_test: Pandas DataFrame or 2D NumPy array\n",
    "# K: the number of nearest neighbors. The default value should be k=5 if no k value is passed during function call.\n",
    "# Use the following pseudo code to implement the algorithm (also see class notes on ideas for writing knn from scratch to see the details of each step in the body of the code). Here is the pseudo code:\n",
    "def knn_predict(X_train, y_train, X_test, k=41):\n",
    "    y_pred = []\n",
    "    for i in range(len(X_test)):\n",
    "        # grab a test instance from the X_test data\n",
    "        if type(X_test) == np.ndarray:\n",
    "            test_instance = np.array(X_test[i])\n",
    "        else:\n",
    "            test_instance = np.array([X_test.iloc[i]])\n",
    "        # find distances betweent the test instance and all the training instances\n",
    "        if type(X_test) == np.ndarray:\n",
    "            d = metrics.euclidean_distances(X_train, [test_instance])\n",
    "        else:\n",
    "            d = metrics.euclidean_distances(X_train, test_instance)\n",
    "        # stack the distances between the y_train to get a matrix\n",
    "        stacked = np.stack((y_train.Dropped.values, d.flatten()), axis=1)\n",
    "        # sort the matrix by the distance column\n",
    "        sorted_stack = stacked[np.argsort(stacked[:, -1])]\n",
    "        # pick k number of y train values\n",
    "        ## where k is much less than the length of the training set\n",
    "        y_train_nearest_k = [int(x) for x in sorted_stack[:k, 0]]\n",
    "        # make a prediction for the test instance\n",
    "        prediction = np.argmax(np.bincount(y_train_nearest_k))\n",
    "        # append the predicted value to the y_pred variable\n",
    "        y_pred.append(prediction)\n",
    "    # return the list of y_pred corresponding to the test instances in the test set\n",
    "    return y_pred\n",
    "\n",
    "\n",
    "# Scale the X_student_train and X_student_test data, and pass these scaled data sets in addition to y_student_train data into the knn_predict() function call to compute the predicted output values for the X_student_test set. You can reference the results using a variable, y_student_test_pred.\n",
    "# Paste a screenshot of your code and output here\n",
    "X_student_train_scaled = StandardScaler().fit_transform(X_student_train)\n",
    "X_student_test_scaled = StandardScaler().fit_transform(X_student_test)\n",
    "\n",
    "y_student_test_pred = knn_predict(\n",
    "    X_student_train_scaled, y_student_train, X_student_test_scaled\n",
    ")\n",
    "print(y_student_test_pred)"
   ]
  },
  {
   "cell_type": "code",
   "execution_count": 12,
   "metadata": {},
   "outputs": [
    {
     "data": {
      "text/plain": [
       "0.7484"
      ]
     },
     "execution_count": 12,
     "metadata": {},
     "output_type": "execute_result"
    }
   ],
   "source": [
    "# b) Define a function called overall_accuracy, that computes the overall accuracy of your algorithm. You can let your function compare the actual values (y) and the predicted or classified y values (y_pred), for example: overall accuracy could be computed using mean(y==y_pred)\n",
    "def overall_accuracy(actual: np.ndarray, predicted: np.ndarray):\n",
    "    return np.mean(actual == predicted)\n",
    "\n",
    "\n",
    "overall_accuracy(y_student_test.values, y_student_test_pred)"
   ]
  },
  {
   "cell_type": "code",
   "execution_count": 13,
   "metadata": {},
   "outputs": [
    {
     "data": {
      "text/plain": [
       "0.7484"
      ]
     },
     "execution_count": 13,
     "metadata": {},
     "output_type": "execute_result"
    }
   ],
   "source": [
    "# c) Use GridSearch in scikit learn to tune the parameter of the k-nearest neighbor classifier, then use that optimal parameter to compute the accuracy of the knn estimator on the test set. Is this accuracy score similar to that obtained using your knn algorithm from scratch?\n",
    "grid = GridSearchCV(KNeighborsClassifier(), {\"n_neighbors\": range(1, 50)}, cv=5)\n",
    "grid.fit(X_student_train_scaled, y_student_train.values.ravel())\n",
    "\n",
    "overall_accuracy(y_student_test.values, grid.predict(X_student_test_scaled))"
   ]
  },
  {
   "cell_type": "code",
   "execution_count": 14,
   "metadata": {},
   "outputs": [
    {
     "data": {
      "text/plain": [
       "0.6188"
      ]
     },
     "execution_count": 14,
     "metadata": {},
     "output_type": "execute_result"
    }
   ],
   "source": [
    "# d) Also build another model using a random forest classifier and compute the accuracy score on the test set. Which of these models is the better, the model is question 2c or this model in question 2d? Why or why not?\n",
    "rf_clf = RandomForestClassifier()\n",
    "rf_clf.fit(X_student_train_scaled, y_student_train.values.ravel())\n",
    "rf_clf_preds = rf_clf.predict(X_student_test_scaled)\n",
    "overall_accuracy(y_student_test.values, rf_clf_preds)"
   ]
  },
  {
   "cell_type": "code",
   "execution_count": 16,
   "metadata": {},
   "outputs": [
    {
     "name": "stdout",
     "output_type": "stream",
     "text": [
      "<class 'pandas.core.frame.DataFrame'>\n",
      "RangeIndex: 768 entries, 0 to 767\n",
      "Data columns (total 10 columns):\n",
      " #   Column                     Non-Null Count  Dtype  \n",
      "---  ------                     --------------  -----  \n",
      " 0   relative_compactness       768 non-null    float64\n",
      " 1   surface_area               768 non-null    float64\n",
      " 2   wall_area                  768 non-null    float64\n",
      " 3   roof_area                  768 non-null    float64\n",
      " 4   overall_height             768 non-null    float64\n",
      " 5   orientation                768 non-null    int64  \n",
      " 6   glazing_area               768 non-null    float64\n",
      " 7   glazing_area_distribution  768 non-null    int64  \n",
      " 8   heating_load               768 non-null    float64\n",
      " 9   cooling_load               768 non-null    float64\n",
      "dtypes: float64(8), int64(2)\n",
      "memory usage: 60.1 KB\n",
      "None\n"
     ]
    },
    {
     "data": {
      "text/html": [
       "<div>\n",
       "<style scoped>\n",
       "    .dataframe tbody tr th:only-of-type {\n",
       "        vertical-align: middle;\n",
       "    }\n",
       "\n",
       "    .dataframe tbody tr th {\n",
       "        vertical-align: top;\n",
       "    }\n",
       "\n",
       "    .dataframe thead th {\n",
       "        text-align: right;\n",
       "    }\n",
       "</style>\n",
       "<table border=\"1\" class=\"dataframe\">\n",
       "  <thead>\n",
       "    <tr style=\"text-align: right;\">\n",
       "      <th></th>\n",
       "      <th>relative_compactness</th>\n",
       "      <th>surface_area</th>\n",
       "      <th>wall_area</th>\n",
       "      <th>roof_area</th>\n",
       "      <th>overall_height</th>\n",
       "      <th>orientation</th>\n",
       "      <th>glazing_area</th>\n",
       "      <th>glazing_area_distribution</th>\n",
       "      <th>heating_load</th>\n",
       "      <th>cooling_load</th>\n",
       "    </tr>\n",
       "  </thead>\n",
       "  <tbody>\n",
       "    <tr>\n",
       "      <th>0</th>\n",
       "      <td>0.98</td>\n",
       "      <td>514.5</td>\n",
       "      <td>294.0</td>\n",
       "      <td>110.25</td>\n",
       "      <td>7.0</td>\n",
       "      <td>2</td>\n",
       "      <td>0.0</td>\n",
       "      <td>0</td>\n",
       "      <td>15.55</td>\n",
       "      <td>21.33</td>\n",
       "    </tr>\n",
       "    <tr>\n",
       "      <th>1</th>\n",
       "      <td>0.98</td>\n",
       "      <td>514.5</td>\n",
       "      <td>294.0</td>\n",
       "      <td>110.25</td>\n",
       "      <td>7.0</td>\n",
       "      <td>3</td>\n",
       "      <td>0.0</td>\n",
       "      <td>0</td>\n",
       "      <td>15.55</td>\n",
       "      <td>21.33</td>\n",
       "    </tr>\n",
       "    <tr>\n",
       "      <th>2</th>\n",
       "      <td>0.98</td>\n",
       "      <td>514.5</td>\n",
       "      <td>294.0</td>\n",
       "      <td>110.25</td>\n",
       "      <td>7.0</td>\n",
       "      <td>4</td>\n",
       "      <td>0.0</td>\n",
       "      <td>0</td>\n",
       "      <td>15.55</td>\n",
       "      <td>21.33</td>\n",
       "    </tr>\n",
       "    <tr>\n",
       "      <th>3</th>\n",
       "      <td>0.98</td>\n",
       "      <td>514.5</td>\n",
       "      <td>294.0</td>\n",
       "      <td>110.25</td>\n",
       "      <td>7.0</td>\n",
       "      <td>5</td>\n",
       "      <td>0.0</td>\n",
       "      <td>0</td>\n",
       "      <td>15.55</td>\n",
       "      <td>21.33</td>\n",
       "    </tr>\n",
       "    <tr>\n",
       "      <th>4</th>\n",
       "      <td>0.90</td>\n",
       "      <td>563.5</td>\n",
       "      <td>318.5</td>\n",
       "      <td>122.50</td>\n",
       "      <td>7.0</td>\n",
       "      <td>2</td>\n",
       "      <td>0.0</td>\n",
       "      <td>0</td>\n",
       "      <td>20.84</td>\n",
       "      <td>28.28</td>\n",
       "    </tr>\n",
       "  </tbody>\n",
       "</table>\n",
       "</div>"
      ],
      "text/plain": [
       "   relative_compactness  surface_area  wall_area  roof_area  overall_height  \\\n",
       "0                  0.98         514.5      294.0     110.25             7.0   \n",
       "1                  0.98         514.5      294.0     110.25             7.0   \n",
       "2                  0.98         514.5      294.0     110.25             7.0   \n",
       "3                  0.98         514.5      294.0     110.25             7.0   \n",
       "4                  0.90         563.5      318.5     122.50             7.0   \n",
       "\n",
       "   orientation  glazing_area  glazing_area_distribution  heating_load  \\\n",
       "0            2           0.0                          0         15.55   \n",
       "1            3           0.0                          0         15.55   \n",
       "2            4           0.0                          0         15.55   \n",
       "3            5           0.0                          0         15.55   \n",
       "4            2           0.0                          0         20.84   \n",
       "\n",
       "   cooling_load  \n",
       "0         21.33  \n",
       "1         21.33  \n",
       "2         21.33  \n",
       "3         21.33  \n",
       "4         28.28  "
      ]
     },
     "metadata": {},
     "output_type": "display_data"
    }
   ],
   "source": [
    "# Question 3: Your own mini project\n",
    "\n",
    "# Find your own dataset suitable for classification or regression with at least three input variables and 200 or more cases: Depending on the target variable of interest, you would build a k-nearest neighbor classifier or regressor using the appropriate sklearn estimator. Find some interesting unique dataset that is not popularly used in the internet.\n",
    "\n",
    "# Address the following and include code/output snippets from b) to f). Include the response under each sub question.\n",
    "# State your research question\n",
    "\n",
    "energy_efficiency = pd.read_excel(\n",
    "    \"https://archive.ics.uci.edu/ml/machine-learning-databases/00242/ENB2012_data.xlsx\",\n",
    "    names=[\n",
    "        \"relative_compactness\",\n",
    "        \"surface_area\",\n",
    "        \"wall_area\",\n",
    "        \"roof_area\",\n",
    "        \"overall_height\",\n",
    "        \"orientation\",\n",
    "        \"glazing_area\",\n",
    "        \"glazing_area_distribution\",\n",
    "        \"heating_load\",\n",
    "        \"cooling_load\",\n",
    "    ],\n",
    ")\n",
    "\n",
    "print(energy_efficiency.info())\n",
    "\n",
    "display(energy_efficiency.head())"
   ]
  },
  {
   "cell_type": "code",
   "execution_count": 17,
   "metadata": {},
   "outputs": [],
   "source": [
    "# Data pre-processing (to the extent deemed necessary: remember the knn algorithm depends on distances, so you need to rescale, normalize or standardize your input values to make sure no variable influences the predictions due to it scale).\n",
    "energy_efficiency_scaled = StandardScaler().fit_transform(\n",
    "    energy_efficiency.drop(columns=[\"heating_load\", \"cooling_load\"])\n",
    ")"
   ]
  },
  {
   "cell_type": "code",
   "execution_count": 22,
   "metadata": {},
   "outputs": [
    {
     "name": "stdout",
     "output_type": "stream",
     "text": [
      "(614, 8)\n",
      "(154, 8)\n",
      "(614,)\n",
      "(154,)\n"
     ]
    }
   ],
   "source": [
    "# Data splitting\n",
    "X_train, X_test, y_train, y_test = train_test_split(\n",
    "    energy_efficiency_scaled,\n",
    "    energy_efficiency[\"heating_load\"],\n",
    "    test_size=0.2,\n",
    "    random_state=42,\n",
    ")\n",
    "\n",
    "for data in [X_train, X_test, y_train, y_test]:\n",
    "    print(data.shape)"
   ]
  },
  {
   "cell_type": "code",
   "execution_count": 19,
   "metadata": {},
   "outputs": [
    {
     "data": {
      "text/plain": [
       "GridSearchCV(cv=10, estimator=KNeighborsRegressor(), n_jobs=-1,\n",
       "             param_grid={'leaf_size': range(30, 40),\n",
       "                         'n_neighbors': range(5, 50), 'p': [1, 2],\n",
       "                         'weights': ['uniform', 'distance']})"
      ]
     },
     "execution_count": 19,
     "metadata": {},
     "output_type": "execute_result"
    }
   ],
   "source": [
    "# Model construction\n",
    "knn_clf = GridSearchCV(\n",
    "    KNeighborsRegressor(),\n",
    "    {\n",
    "        \"n_neighbors\": range(5, 50),\n",
    "        \"weights\": [\n",
    "            \"uniform\",\n",
    "            \"distance\",\n",
    "        ],  # applies greater weight to the closest neighbors\n",
    "        \"leaf_size\": range(30, 40),\n",
    "        \"p\": [1, 2],  # manhattan vs euclidean distance\n",
    "    },\n",
    "    cv=10,\n",
    "    n_jobs=-1,\n",
    ")\n",
    "\n",
    "# Hyperparameter turning (choose whatever approach your like)\n",
    "knn_clf.fit(X_train, y_train.values)"
   ]
  },
  {
   "cell_type": "code",
   "execution_count": 20,
   "metadata": {},
   "outputs": [
    {
     "name": "stdout",
     "output_type": "stream",
     "text": [
      "Best Estimator:\n",
      " KNeighborsRegressor(leaf_size=35, p=1, weights='distance')\n"
     ]
    }
   ],
   "source": [
    "# Use the best or optimal parameter values to build a model, then compute the accuracy score for your estimator.\n",
    "print(\"Best Estimator:\\n\", knn_clf.best_estimator_)"
   ]
  },
  {
   "cell_type": "code",
   "execution_count": 21,
   "metadata": {},
   "outputs": [
    {
     "name": "stdout",
     "output_type": "stream",
     "text": [
      "Train Score 1.0\n",
      "Test Score: 0.9871177434504821\n"
     ]
    }
   ],
   "source": [
    "# Discuss about overfitting for the model\n",
    "print(\"Train Score\", knn_clf.score(X_train, y_train))\n",
    "print(\"Test Score:\", knn_clf.score(X_test, y_test))"
   ]
  },
  {
   "cell_type": "code",
   "execution_count": null,
   "metadata": {},
   "outputs": [],
   "source": []
  }
 ],
 "metadata": {
  "interpreter": {
   "hash": "bd88c1f76f7356ca69ef3da9f14355d0cc834d294444a1e290947aef5ce186b6"
  },
  "kernelspec": {
   "display_name": "Python 3.8.3 ('venv')",
   "language": "python",
   "name": "python3"
  },
  "language_info": {
   "codemirror_mode": {
    "name": "ipython",
    "version": 3
   },
   "file_extension": ".py",
   "mimetype": "text/x-python",
   "name": "python",
   "nbconvert_exporter": "python",
   "pygments_lexer": "ipython3",
   "version": "3.8.3"
  },
  "orig_nbformat": 4
 },
 "nbformat": 4,
 "nbformat_minor": 2
}
